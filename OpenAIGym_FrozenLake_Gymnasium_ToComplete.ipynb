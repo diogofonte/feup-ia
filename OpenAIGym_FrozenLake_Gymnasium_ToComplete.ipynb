{
 "cells": [
  {
   "cell_type": "markdown",
   "metadata": {},
   "source": [
    "# Q-Learning for FrozenLake 4x4\n",
    "\n",
    "Based on https://colab.research.google.com/drive/1oqon14Iq8jzx6PhMJvja-mktFTru5GPl#scrollTo=5aQKQMJTJBPH"
   ]
  },
  {
   "attachments": {
    "image-2.png": {
     "image/png": "[encoded data removed]"
    }
   },
   "cell_type": "markdown",
   "metadata": {},
   "source": [
    "<!-- ![image.png](attachment:image.png) -->\n",
    "\n",
    "The Frozen Lake environment specifications can be found [here](https://gymnasium.farama.org/environments/toy_text/frozen_lake/).\n",
    "\n",
    "![image-2.png](attachment:image-2.png)\n",
    "\n",
    "Frozen lake involves crossing a frozen lake from start to goal without falling into any holes by walking over the frozen lake. The player may not always move in the intended direction due to the slippery nature of the frozen lake.\n",
    "\n",
    "The game starts with the player at location [0,0] of the frozen lake grid world with the goal located at far extent of the world e.g. [3,3] for the 4x4 environment.\n",
    "\n",
    "Holes in the ice are distributed in set locations when using a pre-determined map or in random locations when a random map is generated.\n",
    "\n",
    "The player makes moves until they reach the goal or fall in a hole."
   ]
  },
  {
   "cell_type": "markdown",
   "metadata": {},
   "source": [
    "## Imports\n",
    "\n",
    "We start by importing the dependencies: Gymnasium, numpy, and random."
   ]
  },
  {
   "cell_type": "code",
   "execution_count": null,
   "metadata": {},
   "outputs": [],
   "source": [
    "import gymnasium as gym\n",
    "\n",
    "import numpy as np\n",
    "import random"
   ]
  },
  {
   "cell_type": "markdown",
   "metadata": {},
   "source": [
    "## Setting up and exploring the environment\n",
    "\n",
    "Even though the original problem description has a slippery environment, we are going to start working in a non-slippery environment. In it, if you go right, you only go right; in the original environment, if you intend to go right, you can go right, up or down with 1/3 probability.\n",
    "\n",
    "To make a deterministic Frozen Lake environment, we make use of the `is_slippery` flag. We'll also use `ansi`as rendering mode, as it is faster to visualize (the other option is `human`, which provides a graphical visualization)."
   ]
  },
  {
   "cell_type": "code",
   "execution_count": null,
   "metadata": {},
   "outputs": [],
   "source": [
    "env = gym.make('FrozenLake-v1', desc=None, map_name=\"4x4\", is_slippery=False, render_mode=\"ansi\")"
   ]
  },
  {
   "cell_type": "markdown",
   "metadata": {},
   "source": [
    "Render the environment on the screen."
   ]
  },
  {
   "cell_type": "code",
   "execution_count": null,
   "metadata": {},
   "outputs": [],
   "source": [
    "env.reset()\n",
    "print(env.render())"
   ]
  },
  {
   "cell_type": "markdown",
   "metadata": {},
   "source": [
    "The action space size and the state space size for this environment can be obtained as follows:"
   ]
  },
  {
   "cell_type": "code",
   "execution_count": null,
   "metadata": {},
   "outputs": [],
   "source": [
    "action_size = env.action_space.n\n",
    "state_size = env.observation_space.n\n",
    "print(f'action size: {action_size}, state size: {state_size}')"
   ]
  },
  {
   "cell_type": "markdown",
   "metadata": {},
   "source": [
    "## Q-Learning\n",
    "\n",
    "We now proceed to implementing Q-learning and aplying it to our environment. In Q-learning, q-values are updated based on:\n",
    "\n",
    "$Q(S_{t},A_{t}) \\leftarrow Q(S_{t},A_{t}) + \\alpha [R_{t+1} + \\gamma \\max_{a} Q(S_{t+1},a) - Q(S_{t},A_{t})]$\n",
    "\n",
    "where $\\alpha$ is the learning rate (aka step size), and $\\gamma$ is the discount factor."
   ]
  },
  {
   "cell_type": "markdown",
   "metadata": {},
   "source": [
    "### The Q-table\n",
    "\n",
    "First, we create a Q-table of shape *state_size* x *action_size*, and initialize its values with zeros."
   ]
  },
  {
   "cell_type": "code",
   "execution_count": null,
   "metadata": {},
   "outputs": [],
   "source": [
    "qtable = # your code here\n"
   ]
  },
  {
   "cell_type": "markdown",
   "metadata": {},
   "source": [
    "### Learning hyperparameters\n",
    "\n",
    "Now we create some hyperparameters for the Q-learning algorithm:\n",
    "- the total number of episodes to run\n",
    "- the maximum number of steps per episode\n",
    "- the learning rate\n",
    "- the discount factor\n",
    "- the range for the exploration parameter epsilon\n",
    "- the epsilon decay rate"
   ]
  },
  {
   "cell_type": "code",
   "execution_count": null,
   "metadata": {},
   "outputs": [],
   "source": [
    "total_episodes = 1000         # Total episodes\n",
    "max_steps = 100               # Max steps per episode\n",
    "\n",
    "learning_rate = 0.8           # Learning rate\n",
    "gamma = 0.95                  # Discounting factor\n",
    "\n",
    "# Exploration parameters\n",
    "epsilon = 1.0                 # Exploration rate\n",
    "max_epsilon = 1.0             # Exploration probability at start\n",
    "min_epsilon = 0.01            # Minimum exploration probability \n",
    "decay_rate = 0.001            # Exponential decay rate for exploration prob"
   ]
  },
  {
   "cell_type": "markdown",
   "metadata": {},
   "source": [
    "### The Q-learning algorithm\n",
    "\n",
    "Implement Q-learning and use it to train the agent, using an $\\epsilon$-greedy action selection with decreasing exploration probability. Print some information as learning takes place.\n",
    "Keep a list of the total rewards obtained after each episode."
   ]
  },
  {
   "cell_type": "code",
   "execution_count": null,
   "metadata": {},
   "outputs": [],
   "source": [
    "# List of rewards\n",
    "rewards = []\n",
    "\n",
    "# Iterate through the number of episodes\n",
    "for episode in range(total_episodes):\n",
    "    print(f\"episode: {episode}\")\n",
    "    \n",
    "    # Reset the environment\n",
    "    state = env.reset()[0]\n",
    "    \n",
    "    #print(f\"state: {state}\")\n",
    "    episode_reward = 0\n",
    "    \n",
    "    for _ in range(max_steps):\n",
    "        # Choose an action (a) in the current world state (s)\n",
    "        \n",
    "        # Shall we explore or exploit?\n",
    "        ## generate a random number\n",
    "        exp_exp_tradeoff = random.uniform(0, 1)\n",
    "        \n",
    "        ## If this number > epsilon --> exploitation \n",
    "        if exp_exp_tradeoff > epsilon:\n",
    "            # taking the biggest Q value for this state\n",
    "            # your code here\n",
    "            \n",
    "        # Else explore randomly\n",
    "        else:\n",
    "            # your code here\n",
    "            \n",
    "            \n",
    "        # Take the action (a) and observe the outcome state (s') and reward (r)\n",
    "        new_state, reward, terminated, truncated, info = env.step(action)\n",
    "        \n",
    "        # Update Q(s,a) = Q(s,a) + alpha [R(s,a) + gamma * max Q(s',a') - Q(s,a)]\n",
    "        # your code here\n",
    "        \n",
    "        \n",
    "        episode_reward += reward\n",
    "        \n",
    "        # Update state\n",
    "        state = new_state\n",
    "        \n",
    "        # If done, finish episode\n",
    "        if terminated or truncated:\n",
    "            break\n",
    "    \n",
    "    # reduce epsilon (because we need less and less exploration)\n",
    "    epsilon = min_epsilon + (max_epsilon - min_epsilon)*np.exp(-decay_rate*episode)\n",
    "    \n",
    "    rewards.append(episode_reward)"
   ]
  },
  {
   "cell_type": "markdown",
   "metadata": {},
   "source": [
    "Plot the cummulative reward obtained throughout the episodes."
   ]
  },
  {
   "cell_type": "code",
   "execution_count": null,
   "metadata": {},
   "outputs": [],
   "source": [
    "import matplotlib.pyplot as plt\n",
    "\n",
    "cumulative_sum = np.cumsum(rewards)\n",
    "plt.plot(cumulative_sum)\n",
    "plt.show()"
   ]
  },
  {
   "cell_type": "markdown",
   "metadata": {},
   "source": [
    "Print the resulting Q-table."
   ]
  },
  {
   "cell_type": "code",
   "execution_count": null,
   "metadata": {},
   "outputs": [],
   "source": [
    "print(qtable)"
   ]
  },
  {
   "cell_type": "markdown",
   "metadata": {},
   "source": [
    "We can now print the optimal action for each state, according to the obtained Q-table values. All we need to do is to get the action with the maximum value."
   ]
  },
  {
   "cell_type": "code",
   "execution_count": null,
   "metadata": {},
   "outputs": [],
   "source": [
    "env.reset()\n",
    "print(env.render())\n",
    "\n",
    "# Print the best action in every state\n",
    "#LEFT = 0 DOWN = 1 RIGHT = 2 UP = 3\n",
    "# your code here\n"
   ]
  },
  {
   "cell_type": "markdown",
   "metadata": {},
   "source": [
    "Visualize, state by state, the outcome of following a greedy policy. For that, you just need to choose the best action in each state."
   ]
  },
  {
   "cell_type": "code",
   "execution_count": null,
   "metadata": {},
   "outputs": [],
   "source": [
    "state = env.reset()[0]\n",
    "\n",
    "n_steps = 0\n",
    "terminated = False\n",
    "while terminated == False and n_steps < max_steps:\n",
    "    print(env.render())\n",
    "    # Take the action (index) that has the maximum expected future reward given the state\n",
    "    # your code here\n",
    "    \n",
    "\n",
    "    # Make a step to the next state\n",
    "    # your code here\n",
    "    \n",
    "    \n",
    "    n_steps += 1\n",
    "\n",
    "print(env.render())\n",
    "env.close()\n",
    "print(n_steps)"
   ]
  },
  {
   "cell_type": "markdown",
   "metadata": {},
   "source": [
    "## Using a stochastic environment\n",
    "\n",
    "We now turn into using a slippery frozen lake environment."
   ]
  },
  {
   "cell_type": "code",
   "execution_count": null,
   "metadata": {},
   "outputs": [],
   "source": [
    "env = gym.make('FrozenLake-v1', desc=None, map_name=\"4x4\", is_slippery=True, render_mode=\"ansi\")"
   ]
  },
  {
   "cell_type": "markdown",
   "metadata": {},
   "source": [
    "Run the q-learning algorithm in this new environment, and compare the obtained results both in terms of the q-table, cummulative rewards, and the optimal action in each state."
   ]
  },
  {
   "cell_type": "code",
   "execution_count": null,
   "metadata": {},
   "outputs": [],
   "source": []
  },
  {
   "cell_type": "markdown",
   "metadata": {},
   "source": [
    "Try increasing the number of training episodes and see what you get."
   ]
  },
  {
   "cell_type": "code",
   "execution_count": null,
   "metadata": {},
   "outputs": [],
   "source": []
  },
  {
   "cell_type": "markdown",
   "metadata": {},
   "source": [
    "Experiment with an 8x8 environment."
   ]
  },
  {
   "cell_type": "code",
   "execution_count": null,
   "metadata": {},
   "outputs": [],
   "source": [
    "env = gym.make('FrozenLake-v1', desc=None, map_name=\"8x8\", is_slippery=True, render_mode=\"ansi\")\n",
    "#..."
   ]
  }
 ],
 "metadata": {
  "kernelspec": {
   "display_name": "Python 3",
   "language": "python",
   "name": "python3"
  },
  "language_info": {
   "codemirror_mode": {
    "name": "ipython",
    "version": 3
   },
   "file_extension": ".py",
   "mimetype": "text/x-python",
   "name": "python",
   "nbconvert_exporter": "python",
   "pygments_lexer": "ipython3",
   "version": "3.8.10"
  }
 },
 "nbformat": 4,
 "nbformat_minor": 4
}
