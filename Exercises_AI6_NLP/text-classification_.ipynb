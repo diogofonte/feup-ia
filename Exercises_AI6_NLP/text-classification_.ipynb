{
 "cells": [
  {
   "cell_type": "markdown",
   "metadata": {},
   "source": [
    "Notebook prepared by Henrique Lopes Cardoso (hlc@fe.up.pt).\n",
    "\n",
    "# TEXT CLASSIFICATION"
   ]
  },
  {
   "cell_type": "markdown",
   "metadata": {},
   "source": [
    "## Original dataset\n",
    "\n",
    "For text classification, let's make use of a dataset of restaurant reviews, which can be used for a simple sentiment analysis task: each review is either positive (1) or negative (0)."
   ]
  },
  {
   "cell_type": "code",
   "execution_count": 1,
   "metadata": {},
   "outputs": [
    {
     "data": {
      "text/html": [
       "<div>\n",
       "<style scoped>\n",
       "    .dataframe tbody tr th:only-of-type {\n",
       "        vertical-align: middle;\n",
       "    }\n",
       "\n",
       "    .dataframe tbody tr th {\n",
       "        vertical-align: top;\n",
       "    }\n",
       "\n",
       "    .dataframe thead th {\n",
       "        text-align: right;\n",
       "    }\n",
       "</style>\n",
       "<table border=\"1\" class=\"dataframe\">\n",
       "  <thead>\n",
       "    <tr style=\"text-align: right;\">\n",
       "      <th></th>\n",
       "      <th>Review</th>\n",
       "      <th>Liked</th>\n",
       "    </tr>\n",
       "  </thead>\n",
       "  <tbody>\n",
       "    <tr>\n",
       "      <th>0</th>\n",
       "      <td>Wow... Loved this place.</td>\n",
       "      <td>1</td>\n",
       "    </tr>\n",
       "    <tr>\n",
       "      <th>1</th>\n",
       "      <td>Crust is not good.</td>\n",
       "      <td>0</td>\n",
       "    </tr>\n",
       "    <tr>\n",
       "      <th>2</th>\n",
       "      <td>Not tasty and the texture was just nasty.</td>\n",
       "      <td>0</td>\n",
       "    </tr>\n",
       "    <tr>\n",
       "      <th>3</th>\n",
       "      <td>Stopped by during the late May bank holiday of...</td>\n",
       "      <td>1</td>\n",
       "    </tr>\n",
       "    <tr>\n",
       "      <th>4</th>\n",
       "      <td>The selection on the menu was great and so wer...</td>\n",
       "      <td>1</td>\n",
       "    </tr>\n",
       "  </tbody>\n",
       "</table>\n",
       "</div>"
      ],
      "text/plain": [
       "                                              Review  Liked\n",
       "0                           Wow... Loved this place.      1\n",
       "1                                 Crust is not good.      0\n",
       "2          Not tasty and the texture was just nasty.      0\n",
       "3  Stopped by during the late May bank holiday of...      1\n",
       "4  The selection on the menu was great and so wer...      1"
      ]
     },
     "execution_count": 1,
     "metadata": {},
     "output_type": "execute_result"
    }
   ],
   "source": [
    "import pandas as pd\n",
    "\n",
    "# Importing the dataset\n",
    "dataset = pd.read_csv('Restaurant_Reviews.tsv', delimiter = '\\t', quoting = 3)\n",
    "\n",
    "dataset.head()"
   ]
  },
  {
   "cell_type": "markdown",
   "metadata": {},
   "source": [
    "We can start by observing label distribution:"
   ]
  },
  {
   "cell_type": "code",
   "execution_count": 2,
   "metadata": {},
   "outputs": [
    {
     "name": "stdout",
     "output_type": "stream",
     "text": [
      "1    500\n",
      "0    500\n",
      "Name: Liked, dtype: int64\n",
      "1    0.5\n",
      "0    0.5\n",
      "Name: Liked, dtype: float64\n"
     ]
    },
    {
     "data": {
      "text/plain": [
       "<AxesSubplot:>"
      ]
     },
     "execution_count": 2,
     "metadata": {},
     "output_type": "execute_result"
    },
    {
     "data": {
      "image/png": "[encoded data removed]",
      "text/plain": [
       "<Figure size 640x480 with 1 Axes>"
      ]
     },
     "metadata": {},
     "output_type": "display_data"
    }
   ],
   "source": [
    "print(dataset['Liked'].value_counts())\n",
    "\n",
    "print(dataset['Liked'].value_counts(normalize=True))\n",
    "\n",
    "dataset['Liked'].value_counts().plot(kind='bar')"
   ]
  },
  {
   "cell_type": "markdown",
   "metadata": {},
   "source": [
    "## Cleanup and normalization\n",
    "\n",
    "A typical first step when addressing text classification is to apply a few techniques to cleanup and normalize the text.\n",
    "\n",
    "We can start by quickly inspecting the contents of reviews. Print them all and try finding opportunities for cleanup and normalization operations."
   ]
  },
  {
   "cell_type": "code",
   "execution_count": 6,
   "metadata": {},
   "outputs": [
    {
     "name": "stdout",
     "output_type": "stream",
     "text": [
      "                                                Review  Liked\n",
      "0                             Wow... Loved this place.      1\n",
      "1                                   Crust is not good.      0\n",
      "2            Not tasty and the texture was just nasty.      0\n",
      "3    Stopped by during the late May bank holiday of...      1\n",
      "4    The selection on the menu was great and so wer...      1\n",
      "..                                                 ...    ...\n",
      "995  I think food should have flavor and texture an...      0\n",
      "996                           Appetite instantly gone.      0\n",
      "997  Overall I was not impressed and would not go b...      0\n",
      "998  The whole experience was underwhelming, and I ...      0\n",
      "999  Then, as if I hadn't wasted enough of my life ...      0\n",
      "\n",
      "[1000 rows x 2 columns]\n"
     ]
    }
   ],
   "source": [
    "print(dataset)\n"
   ]
  },
  {
   "cell_type": "markdown",
   "metadata": {},
   "source": [
    "So, you've probably been able to find non-alphabetic characters (including punctuation), capitalized words (sometimes even whole reviews), and so on.\n",
    "\n",
    "#### Removing non-alphabetic chars\n",
    "\n",
    "Let's start by removing any non-alpha chars, using a regular expression. We'll create a separate corpus (a list of reviews), so that we leave the original dataset untouched."
   ]
  },
  {
   "cell_type": "code",
   "execution_count": 5,
   "metadata": {},
   "outputs": [
    {
     "name": "stdout",
     "output_type": "stream",
     "text": [
      "['Wow    Loved this place ', 'Crust is not good ', 'Not tasty and the texture was just nasty ', 'Stopped by during the late May bank holiday off Rick Steve recommendation and loved it ', 'The selection on the menu was great and so were the prices ', 'Now I am getting angry and I want my damn pho ', 'Honeslty it didn t taste THAT fresh  ', 'The potatoes were like rubber and you could tell they had been made up ahead of time being kept under a warmer ', 'The fries were great too ', 'A great touch ', 'Service was very prompt ', 'Would not go back ', 'The cashier had no care what so ever on what I had to say it still ended up being wayyy overpriced ', 'I tried the Cape Cod ravoli  chicken  with cranberry   mmmm ', 'I was disgusted because I was pretty sure that was human hair ', 'I was shocked because no signs indicate cash only ', 'Highly recommended ', 'Waitress was a little slow in service ', 'This place is not worth your time  let alone Vegas ', 'did not like at all ', 'The Burrittos Blah ', 'The food  amazing ', 'Service is also cute ', 'I could care less    The interior is just beautiful ', 'So they performed ', 'That s right    the red velvet cake     ohhh this stuff is so good ', '  They never brought a salad we asked for ', 'This hole in the wall has great Mexican street tacos  and friendly staff ', 'Took an hour to get our food only   tables in restaurant my food was Luke warm  Our sever was running around like he was totally overwhelmed ', 'The worst was the salmon sashimi ', 'Also there are combos like a burger  fries  and beer for    which is a decent deal ', 'This was like the final blow ', 'I found this place by accident and I could not be happier ', 'seems like a good quick place to grab a bite of some familiar pub food  but do yourself a favor and look elsewhere ', 'Overall  I like this place a lot ', 'The only redeeming quality of the restaurant was that it was very inexpensive ', 'Ample portions and good prices ', 'Poor service  the waiter made me feel like I was stupid every time he came to the table ', 'My first visit to Hiro was a delight ', 'Service sucks ', 'The shrimp tender and moist ', 'There is not a deal good enough that would drag me into that establishment again ', 'Hard to judge whether these sides were good because we were grossed out by the melted styrofoam and didn t want to eat it for fear of getting sick ', 'On a positive note  our server was very attentive and provided great service ', 'Frozen pucks of disgust  with some of the worst people behind the register ', 'The only thing I did like was the prime rib and dessert section ', 'It s too bad the food is so damn generic ', 'The burger is good beef  cooked just right ', 'If you want a sandwich just go to any Firehouse     ', 'My side Greek salad with the Greek dressing was so tasty  and the pita and hummus was very refreshing ', 'We ordered the duck rare and it was pink and tender on the inside with a nice char on the outside ', 'He came running after us when he realized my husband had left his sunglasses on the table ', 'Their chow mein is so good ', 'They have horrible attitudes towards customers  and talk down to each one when customers don t enjoy their food ', 'The portion was huge ', 'Loved it   friendly servers  great food  wonderful and imaginative menu ', 'The Heart Attack Grill in downtown Vegas is an absolutely flat lined excuse for a restaurant ', 'Not much seafood and like   strings of pasta at the bottom ', 'The salad had just the right amount of sauce to not over power the scallop  which was perfectly cooked ', 'The ripped banana was not only ripped  but petrified and tasteless ', 'At least think to refill my water before I struggle to wave you over for    minutes ', 'This place receives stars for their APPETIZERS   ', 'The cocktails are all handmade and delicious ', 'We d definitely go back here again ', 'We are so glad we found this place ', 'Great food and service  huge portions and they give a military discount ', 'Always a great time at Dos Gringos ', 'Update     went back for a second time and it was still just as amazing', 'We got the food and apparently they have never heard of salt and the batter on the fish was chewy ', 'A great way to finish a great ', 'The deal included   tastings and   drinks  and Jeff went above and beyond what we expected ', '  Really  really good rice  all the time ', 'The service was meh ', 'It took over    min to get their milkshake  which was nothing more than chocolate milk ', 'I guess I should have known that this place would suck  because it is inside of the Excalibur  but I didn t use my common sense ', 'The scallop dish is quite appalling for value as well ', '  times   Very Bad Customer Service  ', 'The sweet potato fries were very good and seasoned well ', 'Today is the second time I ve been to their lunch buffet and it was pretty good ', 'There is so much good food in Vegas that I feel cheated for wasting an eating opportunity by going to Rice and Company ', 'Coming here is like experiencing an underwhelming relationship where both parties can t wait for the other person to ask to break up ', 'walked in and the place smelled like an old grease trap and only   others there eating ', 'The turkey and roast beef were bland ', 'This place has it ', 'The pan cakes everyone are raving about taste like a sugary disaster tailored to the palate of a six year old ', 'I love the Pho and the spring rolls oh so yummy you have to try ', 'The poor batter to meat ratio made the chicken tenders very unsatisfying ', 'All I have to say is the food was amazing   ', 'Omelets are to die for ', 'Everything was fresh and delicious ', 'In summary  this was a largely disappointing dining experience ', 'It s like a really sexy party in your mouth  where you re outrageously flirting with the hottest person at the party ', 'Never been to Hard Rock Casino before  WILL NEVER EVER STEP FORWARD IN IT AGAIN ', 'Best breakfast buffet   ', 'say bye bye to your tip lady ', 'We ll never go again ', 'Will be back again ', 'Food arrived quickly ', 'It was not good ', 'On the up side  their cafe serves really good food ', 'Our server was fantastic and when he found out the wife loves roasted garlic and bone marrow  he added extra to our meal and another marrow to go ', 'The only good thing was our waiter  he was very helpful and kept the bloddy mary s coming ', 'Best Buffet in town  for the price you cannot beat it ', 'I LOVED their mussels cooked in this wine reduction  the duck was tender  and their potato dishes were delicious ', 'This is one of the better buffets that I have been to ', 'So we went to Tigerlilly and had a fantastic afternoon ', 'The food was delicious  our bartender was attentive and personable AND we got a great deal ', 'The ambience is wonderful and there is music playing ', 'Will go back next trip out ', 'Sooooo good  ', 'REAL sushi lovers  let s be honest   Yama is not that good ', 'At least   min passed in between us ordering and the food arriving  and it wasn t that busy ', 'This is a really fantastic Thai restaurant which is definitely worth a visit ', 'Nice  spicy and tender ', 'Good prices ', 'Check it out ', 'It was pretty gross ', 'I ve had better atmosphere ', 'Kind of hard to mess up a steak but they did ', 'Although I very much liked the look and sound of this place  the actual experience was a bit disappointing ', 'I just don t know how this place managed to served the blandest food I have ever eaten when they are preparing Indian cuisine ', 'Worst service to boot  but that is the least of their worries ', 'Service was fine and the waitress was friendly ', 'The guys all had steaks  and our steak loving son who has had steak at the best and worst places said it was the best steak he s ever eaten ', 'We thought you d have to venture further away to get good sushi  but this place really hit the spot that night ', 'Host staff were  for lack of a better word  BITCHES ', 'Bland    Not a liking this place for a number of reasons and I don t want to waste time on bad reviewing   I ll leave it at that   ', 'Phenomenal food  service and ambiance ', 'I wouldn t return ', 'Definitely worth venturing off the strip for the pork belly  will return next time I m in Vegas ', 'This place is way too overpriced for mediocre food ', 'Penne vodka excellent ', 'They have a good selection of food including a massive meatloaf sandwich  a crispy chicken wrap  a delish tuna melt and some tasty burgers ', 'The management is rude ', 'Delicious NYC bagels  good selections of cream cheese  real Lox with capers even ', 'Great Subway  in fact it s so good when you come here every other Subway will not meet your expectations ', 'I had a seriously solid breakfast here ', 'This is one of the best bars with food in Vegas ', 'He was extremely rude and really  there are so many other restaurants I would love to dine at during a weekend in Vegas ', 'My drink was never empty and he made some really great menu suggestions ', 'Don t do it    ', 'The waiter wasn t helpful or friendly and rarely checked on us ', 'My husband and I ate lunch here and were very disappointed with the food and service ', 'And the red curry had so much bamboo shoots and wasn t very tasty to me ', 'Nice blanket of moz over top but i feel like this was done to cover up the subpar food ', 'The bathrooms are clean and the place itself is well decorated ', 'The menu is always changing  food quality is going down   service is extremely slow ', 'The service was a little slow   considering that were served by   people servers so the food was coming in a slow pace ', 'I give it   thumbs down', 'We watched our waiter pay a lot more attention to other tables and ignore us ', 'My fianc  and I came in the middle of the day and we were greeted and seated right away ', 'This is a great restaurant at the Mandalay Bay ', 'We waited for forty five minutes in vain ', 'Crostini that came with the salad was stale ', 'Some highlights   Great quality nigiri here ', 'the staff is friendly and the joint is always clean ', 'this was a different cut than the piece the other day but still wonderful and tender s well as well flavored ', 'I ordered the Voodoo pasta and it was the first time I d had really excellent pasta since going gluten free several years ago ', 'this place is good ', 'Unfortunately  we must have hit the bakery on leftover day because everything we ordered was STALE ', 'I came back today since they relocated and still not impressed ', 'I was seated immediately ', 'Their menu is diverse  and reasonably priced ', 'Avoid at all cost ', 'Restaurant is always full but never a wait ', 'DELICIOUS  ', 'This place is hands down one of the best places to eat in the Phoenix metro area ', 'So don t go there if you are looking for good food   ', 'I ve never been treated so bad ', 'Bacon is hella salty ', 'We also ordered the spinach and avocado salad  the ingredients were sad and the dressing literally had zero taste ', 'This really is how Vegas fine dining used to be  right down to the menus handed to the ladies that have no prices listed ', 'The waitresses are very friendly ', 'Lordy  the Khao Soi is a dish that is not to be missed for curry lovers ', 'Everything on the menu is terrific and we were also thrilled that they made amazing accommodations for our vegetarian daughter ', 'Perhaps I caught them on an off night judging by the other reviews  but I m not inspired to go back ', 'The service here leaves a lot to be desired ', 'The atmosphere is modern and hip  while maintaining a touch of coziness ', 'Not a weekly haunt  but definitely a place to come back to every once in a while ', 'We literally sat there for    minutes with no one asking to take our order ', 'The burger had absolutely no flavor   the meat itself was totally bland  the burger was overcooked and there was no charcoal flavor ', 'I also decided not to send it back because our waitress looked like she was on the verge of having a heart attack ', 'I dressed up to be treated so rudely ', 'It was probably dirt ', 'Love this place  hits the spot when I want something healthy but not lacking in quantity or flavor ', 'I ordered the Lemon raspberry ice cocktail which was also incredible ', 'The food sucked  which we expected but it sucked more than we could have imagined ', 'Interesting decor ', 'What I really like there is the crepe station ', 'Also were served hot bread and butter  and home made potato chips with bacon bits on top    very original and very good ', 'you can watch them preparing the delicious food  ', 'Both of the egg rolls were fantastic ', 'When my order arrived  one of the gyros was missing ', 'I had a salad with the wings  and some ice cream for dessert and left feeling quite satisfied ', 'I m not really sure how Joey s was voted best hot dog in the Valley by readers of Phoenix Magazine ', 'The best place to go for a tasty bowl of Pho ', 'The live music on Fridays totally blows ', 'I ve never been more insulted or felt disrespected ', 'Very friendly staff ', 'It is worth the drive ', 'I had heard good things about this place  but it exceeding every hope I could have dreamed of ', 'Food was great and so was the serivce ', 'The warm beer didn t help ', 'Great brunch spot ', 'Service is friendly and inviting ', 'Very good lunch spot ', 'I ve lived here since      and this was the first  and last  time I ve stepped foot into this place ', 'The WORST EXPERIENCE EVER ', 'Must have been an off night at this place ', 'The sides are delish   mixed mushrooms  yukon gold puree  white corn   beateous ', 'If that bug never showed up I would have given a   for sure  but on the other side of the wall where this bug was climbing was the kitchen ', 'For about    minutes  we we re waiting for her salad when we realized that it wasn t coming any time soon ', 'My friend loved the salmon tartar ', 'Won t go back ', 'Extremely Tasty ', 'Waitress was good though ', 'Soggy and not good ', 'The Jamaican mojitos are delicious ', 'Which are small and not worth the price ', '  the food is rich so order accordingly ', 'The shower area is outside so you can only rinse  not take a full shower  unless you don t mind being nude for everyone to see ', 'The service was a bit lacking ', 'Lobster Bisque  Bussell Sprouts  Risotto  Filet ALL needed salt and pepper  and of course there is none at the tables ', 'Hopefully this bodes for them going out of business and someone who can cook can come in ', 'It was either too cold  not enough flavor or just bad ', 'I loved the bacon wrapped dates ', 'This is an unbelievable BARGAIN ', 'The folks at Otto always make us feel so welcome and special ', 'As for the  mains   also uninspired ', 'This is the place where I first had pho and it was amazing  ', 'This wonderful experience made this place a must stop whenever we are in town again ', 'If the food isn t bad enough for you  then enjoy dealing with the world s worst annoying drunk people ', 'Very very fun chef ', 'Ordered a double cheeseburger   got a single patty that was falling apart  picture uploaded  Yeah  still sucks ', 'Great place to have a couple drinks and watch any and all sporting events as the walls are covered with TV s ', 'If it were possible to give them zero stars  they d have it ', 'The descriptions said  yum yum sauce  and another said  eel sauce   yet another said  spicy mayo    well NONE of the rolls had sauces on them ', 'I d say that would be the hardest decision    Honestly  all of M s dishes taste how they are supposed to taste  amazing  ', 'If she had not rolled the eyes we may have stayed    Not sure if we will go back and try it again ', 'Everyone is very attentive  providing excellent customer service ', 'Horrible   don t waste your time and money ', 'Now this dish was quite flavourful ', 'By this time our side of the restaurant was almost empty so there was no excuse ', ' It wasn t busy either  Also  the building was FREEZING cold ', 'like the other reviewer said  you couldn t pay me to eat at this place again  ', ' Drinks took close to    minutes to come out at one point ', 'Seriously flavorful delights  folks ', 'Much better than the other AYCE sushi place I went to in Vegas ', 'The lighting is just dark enough to set the mood ', 'Based on the sub par service I received and no effort to show their gratitude for my business I won t be going back ', 'Owner s are really great people  ', 'There is nothing privileged about working eating there ', 'The Greek dressing was very creamy and flavorful ', 'Overall  I don t think that I would take my parents to this place again because they made most of the similar complaints that I silently felt too ', 'Now the pizza itself was good the peanut sauce was very tasty ', 'We had   at our table and the service was pretty fast ', 'Fantastic service here ', 'I as well would ve given godfathers zero stars if possible ', 'They know how to make them here ', 'very tough and very short on flavor ', 'I hope this place sticks around ', 'I have been in more than a few bars in Vegas  and do not ever recall being charged for tap water ', 'The restaurant atmosphere was exquisite ', 'Good service  very clean  and inexpensive  to boot ', 'The seafood was fresh and generous in portion ', 'Plus  it s only   bucks ', 'The service was not up to par  either ', 'Thus far  have only visited twice and the food was absolutely delicious each time ', 'Just as good as when I had it more than a year ago ', 'For a self proclaimed coffee cafe  I was wildly disappointed ', 'The Veggitarian platter is out of this world ', 'You cant go wrong with any of the food here ', 'You can t beat that ', 'Stopped by this place while in Madison for the Ironman  very friendly  kind staff ', 'The chefs were friendly and did a good job ', 'I ve had better  not only from dedicated boba tea spots  but even from Jenni Pho ', 'I liked the patio and the service was outstanding ', 'The goat taco didn t skimp on the meat and wow what FLAVOR ', 'I think not again', 'I had the mac salad and it was pretty bland so I will not be getting that again ', 'I went to Bachi Burger on a friend s recommendation and was not disappointed ', 'Service stinks here ', 'I waited and waited ', 'This place is not quality sushi  it is not a quality restaurant ', 'I would definitely recommend the wings as well as the pizza ', 'Great Pizza and Salads ', 'Things that went wrong    They burned the saganaki ', 'We waited an hour for what was a breakfast I could have done     times better at home ', 'This place is amazing ', 'I hate to disagree with my fellow Yelpers  but my husband and I were so disappointed with this place ', 'Waited   hours   never got either of our pizzas as many other around us who came in later did ', 'Just don t know why they were so slow ', 'The staff is great  the food is delish  and they have an incredible beer selection ', 'I live in the neighborhood so I am disappointed I won t be back here  because it is a convenient location ', 'I didn t know pulled pork could be soooo delicious ', 'You get incredibly fresh fish  prepared with care ', 'Before I go in to why I gave a   star rating please know that this was my third time eating at Bachi burger before writing a review ', 'I love the fact that everything on their menu is worth it ', 'Never again will I be dining at this place ', 'The food was excellent and service was very good ', 'Good beer   drink selection and good food selection ', 'Please stay away from the shrimp stir fried noodles ', 'The potato chip order was sad    I could probably count how many chips were in that box and it was probably around    ', 'Food was really boring ', 'Good Service check ', 'This greedy corporation will NEVER see another dime from me ', 'Will never  ever go back ', 'As much as I d like to go back  I can t get passed the atrocious service and will never return ', 'In the summer  you can dine in a charming outdoor patio   so very delightful ', 'I did not expect this to be so good ', 'Fantastic food ', 'She ordered a toasted English muffin that came out untoasted ', 'The food was very good ', 'Never going back ', 'Great food for the price  which is very high quality and house made ', 'The bus boy on the other hand was so rude ', 'By this point  my friends and I had basically figured out this place was a joke and didn t mind making it publicly and loudly known ', 'Back to good BBQ  lighter fare  reasonable pricing and tell the public they are back to the old ways ', 'And considering the two of us left there very full and happy for about      you just can t go wrong ', 'All the bread is made in house ', 'The only downside is the service ', 'Also  the fries are without a doubt the worst fries I ve ever had ', 'Service was exceptional and food was a good as all the reviews ', 'A couple of months later  I returned and had an amazing meal ', 'Favorite place in town for shawarrrrrrma      ', 'The black eyed peas and sweet potatoes    UNREAL ', 'You won t be disappointed ', 'They could serve it with just the vinaigrette and it may make for a better overall dish  but it was still very good ', 'I go to far too many places and I ve never seen any restaurant that serves a   egg breakfast  especially for       ', 'When my mom and I got home she immediately got sick and she only had a few bites of salad ', 'The servers are not pleasant to deal with and they don t always honor Pizza Hut coupons ', 'Both of them were truly unbelievably good  and I am so glad we went back ', 'We had fantastic service  and were pleased by the atmosphere ', 'Everything was gross ', 'I love this place ', 'Great service and food ', 'First   the bathrooms at this location were dirty  Seat covers were not replenished   just plain yucky   ', 'The burger    I got the  Gold Standard  a     burger and was kind of disappointed ', 'OMG  the food was delicioso ', 'There is nothing authentic about this place ', 'the spaghetti is nothing special whatsoever ', 'Of all the dishes  the salmon was the best  but all were great ', 'The vegetables are so fresh and the sauce feels like authentic Thai ', 'It s worth driving up from Tucson ', 'The selection was probably the worst I ve seen in Vegas     there was none ', 'Pretty good beer selection too ', 'This place is like Chipotle  but BETTER ', 'Classy warm atmosphere  fun and fresh appetizers  succulent steaks  Baseball steak     ', '  stars for the brick oven bread app ', 'I have eaten here multiple times  and each time the food was delicious ', 'We sat another ten minutes and finally gave up and left ', 'He was terrible ', 'Everyone is treated equally special ', 'It shouldn t take    min for pancakes and eggs ', 'It was delicious   ', 'On the good side  the staff was genuinely pleasant and enthusiastic   a real treat ', 'Sadly  Gordon Ramsey s Steak is a place we shall sharply avoid during our next trip to Vegas ', 'As always the evening was wonderful and the food delicious ', 'Best fish I ve ever had in my life ', ' The bathroom is just next door and very nice  ', 'The buffet is small and all the food they offered was BLAND ', 'This is an Outstanding little restaurant with some of the Best Food I have ever tasted ', 'Pretty cool I would say ', 'Definitely a turn off for me   i doubt I ll be back unless someone else is buying ', 'Server did a great job handling our large rowdy table ', 'I find wasting food to be despicable  but this just wasn t food ', 'My wife had the Lobster Bisque soup which was lukewarm ', 'Would come back again if I had a sushi craving while in Vegas ', 'The staff are great  the ambiance is great ', 'He deserves   stars ', 'I left with a stomach ache and felt sick the rest of the day ', 'They dropped more than the ball ', 'The dining space is tiny  but elegantly decorated and comfortable ', 'They will customize your order any way you d like  my usual is Eggplant with Green Bean stir fry  love it ', 'And the beans and rice were mediocre at best ', 'Best tacos in town by far  ', 'I took back my money and got outta there ', 'In an interesting part of town  this place is amazing ', 'RUDE   INCONSIDERATE MANAGEMENT ', 'The staff are now not as friendly  the wait times for being served are horrible  no one even says hi for the first    minutes ', 'I won t be back ', 'They have great dinners ', 'The service was outshining   I definitely recommend the Halibut ', 'The food was terrible ', 'WILL NEVER EVER GO BACK AND HAVE TOLD MANY PEOPLE WHAT HAD HAPPENED ', 'I don t recommend unless your car breaks down in front of it and you are starving ', 'I will come back here every time I m in Vegas ', 'This place deserves one star and     has to do with the food ', 'This is a disgrace ', 'Def coming back to bowl next time', 'If you want healthy authentic or ethic food  try this place ', 'I will continue to come here on ladies night andddd date night     highly recommend this place to anyone who is in the area ', 'I have been here several times in the past  and the experience has always been great ', 'We walked away stuffed and happy about our first Vegas buffet experience ', 'Service was excellent and prices are pretty reasonable considering this is Vegas and located inside the Crystals shopping mall by Aria ', 'To summarize    the food was incredible  nay  transcendant    but nothing brings me joy quite like the memory of the pneumatic condiment dispenser ', 'I m probably one of the few people to ever go to Ians and not like it ', 'Kids pizza is always a hit too with lots of great side dish options for the kiddos ', 'Service is perfect and the family atmosphere is nice to see ', 'Cooked to perfection and the service was impeccable ', 'This one is simply a disappointment ', 'Overall  I was very disappointed with the quality of food at Bouchon ', 'I don t have to be an accountant to know I m getting screwed ', 'Great place to eat  reminds me of the little mom and pop shops in the San Francisco Bay Area ', 'Today was my first taste of a Buldogis Gourmet Hot Dog and I have to tell you it was more than I ever thought possible ', 'Left very frustrated ', 'I ll definitely be in soon again ', 'Food was really good and I got full petty fast ', 'Service was fantastic ', 'TOTAL WASTE OF TIME ', 'I don t know what kind it is but they have the best iced tea ', 'Come hungry  leave happy and stuffed ', 'For service  I give them no stars ', 'I can assure you that you won t be disappointed ', 'I can take a little bad service but the food sucks ', 'Gave up trying to eat any of the crust  teeth still sore  ', 'But now I was completely grossed out ', 'I really enjoyed eating here ', 'First time going but I think I will quickly become a regular ', 'Our server was very nice  and even though he looked a little overwhelmed with all of our needs  he stayed professional and friendly until the end ', 'From what my dinner companions told me   everything was very fresh with nice texture and taste ', 'On the ground  right next to our table was a large  smeared  been stepped in and tracked everywhere pile of green bird poop ', 'Furthermore  you can t even find hours of operation on the website ', 'We ve tried to like this place but after     times I think we re done with them ', 'What a mistake that was ', 'No complaints ', 'This is some seriously good pizza and I m an expert connisseur on the topic ', 'Waiter was a jerk ', 'Strike    who wants to be rushed ', 'These are the nicest restaurant owners I ve ever come across ', 'I never come again ', 'We loved the biscuits   ', 'Service is quick and friendly ', 'Ordered an appetizer and took    minutes and then the pizza another    minutes ', 'So absolutley fantastic ', 'It was a huge awkward    lb piece of cow that was    ths gristle and fat ', 'definitely will come back here again ', 'I like Steiners because it s dark and it feels like a bar ', 'Wow very spicy but delicious ', 'If you re not familiar  check it out ', 'I ll take my business dinner dollars elsewhere ', 'I d love to go back ', 'Anyway  this FS restaurant has a wonderful breakfast lunch ', 'Nothing special ', 'Each day of the week they have a different deal and it s all so delicious ', 'Not to mention the combination of pears  almonds and bacon is a big winner ', 'Will not be back ', 'Sauce was tasteless ', 'The food is delicious and just spicy enough  so be sure to ask for spicier if you prefer it that way ', 'My ribeye steak was cooked perfectly and had great mesquite flavor ', 'I don t think we ll be going back anytime soon ', 'Food was so gooodd ', 'I am far from a sushi connoisseur but I can definitely tell the difference between good food and bad food and this was certainly bad food ', 'I was so insulted ', 'The last   times I had lunch here has been bad ', 'The chicken wings contained the driest chicken meat I have ever eaten ', 'The food was very good and I enjoyed every mouthful  an enjoyable relaxed venue for couples small family groups etc ', 'Nargile   I think you are great ', 'Best tater tots in the southwest ', 'We loved the place ', 'Definitely not worth the    I paid ', 'The vanilla ice cream was creamy and smooth while the profiterole  choux  pastry was fresh enough ', 'Im in AZ all the time and now have my new spot ', 'The manager was the worst ', 'The inside is really quite nice and very clean ', 'The food was outstanding and the prices were very reasonable ', 'I don t think I ll be running back to Carly s anytime soon for food ', 'This is was due to the fact that it took    minutes to be acknowledged  then another    minutes to get our food   and they kept forgetting things ', 'Love the margaritas  too ', 'This was my first and only Vegas buffet and it did not disappoint ', 'Very good  though ', 'The one down note is the ventilation could use some upgrading ', 'Great pork sandwich ', 'Don t waste your time here ', 'Total letdown  I would much rather just go to the Camelback Flower Shop and Cartel Coffee ', 'Third  the cheese on my friend s burger was cold ', 'We enjoy their pizza and brunch ', 'The steaks are all well trimmed and also perfectly cooked ', 'We had a group of     when we claimed we would only have    and they handled us beautifully ', 'I LOVED it ', 'We asked for the bill to leave without eating and they didn t bring that either ', 'This place is a jewel in Las Vegas  and exactly what I ve been hoping to find in nearly ten years living here ', 'Seafood was limited to boiled shrimp and crab legs but the crab legs definitely did not taste fresh ', 'The selection of food was not the best ', 'Delicious and I will absolutely be back ', 'This isn t a small family restaurant  this is a fine dining establishment ', 'They had a toro tartare with a cavier that was extraordinary and I liked the thinly sliced wagyu with white truffle ', 'I dont think I will be back for a very long time ', 'It was attached to a gas station  and that is rarely a good sign ', 'How awesome is that ', 'I will be back many times soon ', 'The menu had so much good stuff on it i could not decide ', 'Worse of all  he humiliated his worker right in front of me  Bunch of horrible name callings ', 'CONCLUSION  Very filling meals ', 'Their daily specials are always a hit with my group ', 'And then tragedy struck ', 'The pancake was also really good and pretty large at that ', 'This was my first crawfish experience  and it was delicious ', 'Their monster chicken fried steak and eggs is my all time favorite ', 'Waitress was sweet and funny ', 'I also had to taste my Mom s multi grain pumpkin pancakes with pecan butter and they were amazing  fluffy  and delicious ', 'I d rather eat airline food  seriously ', 'Cant say enough good things about this place ', 'The ambiance was incredible ', 'The waitress and manager are so friendly ', 'I would not recommend this place ', 'Overall I wasn t very impressed with Noca ', 'My gyro was basically lettuce only ', 'Terrible service ', 'Thoroughly disappointed ', 'I don t each much pasta  but I love the homemade  hand made pastas and thin pizzas here ', 'Give it a try  you will be happy you did ', 'By far the BEST cheesecurds we have ever had ', 'Reasonably priced also ', 'Everything was perfect the night we were in ', 'The food is very good for your typical bar food ', 'it was a drive to get there ', 'At first glance it is a lovely bakery cafe   nice ambiance  clean  friendly staff ', 'Anyway  I do not think i will go back there ', 'Point your finger at any item on the menu  order it and you won t be disappointed ', 'Oh this is such a thing of beauty  this restaurant ', 'If you haven t gone here GO NOW ', 'A greasy  unhealthy meal ', 'first time there and might just be the last ', 'Those burgers were amazing ', 'Similarly  the delivery man did not say a word of apology when our food was    minutes late ', 'And it was way to expensive ', 'Be sure to order dessert  even if you need to pack it to go   the tiramisu and cannoli are both to die for ', 'This was my first time and I can t wait until the next ', 'The bartender was also nice ', 'Everything was good and tasty ', 'This place is two thumbs up    way up ', 'The best place in Vegas for breakfast  just check out a Sat  or Sun ', 'If you love authentic Mexican food and want a whole bunch of interesting  yet delicious meats to choose from  you need to try this place ', 'Terrible management ', 'An excellent new restaurant by an experienced Frenchman ', 'If there were zero stars I would give it zero stars ', 'Great steak  great sides  great wine  amazing desserts ', 'Worst martini ever ', 'The steak and the shrimp are in my opinion the best entrees at GC ', 'I had the opportunity today to sample your amazing pizzas ', 'We waited for thirty minutes to be seated  although there were   vacant tables and we were the only folks waiting  ', 'The yellowtail carpaccio was melt in your mouth fresh ', 'I won t try going back there even if it s empty ', 'No  I m going to eat the potato that I found some strangers hair in it ', 'Just spicy enough   Perfect actually ', 'Last night was my second time dining here and I was so happy I decided to go back ', 'not even a  hello  we will be right with you  ', 'The desserts were a bit strange ', 'My boyfriend and I came here for the first time on a recent trip to Vegas and could not have been more pleased with the quality of food and service ', 'I really do recommend this place  you can go wrong with this donut place ', 'Nice ambiance ', 'I would recommend saving room for this ', 'I guess maybe we went on an off night but it was disgraceful ', 'However  my recent experience at this particular location was not so good ', 'I know this is not like the other restaurants at all  something is very off here ', 'AVOID THIS ESTABLISHMENT ', 'I think this restaurant suffers from not trying hard enough ', 'All of the tapas dishes were delicious ', 'I  heart  this place ', 'My salad had a bland vinegrette on the baby greens and hearts of Palm ', 'After two I felt disgusting ', 'A good time ', 'I believe that this place is a great stop for those with a huge belly and hankering for sushi ', 'Generous portions and great taste ', 'I will never go back to this place and will never ever recommended this place to anyone ', 'The servers went back and forth several times  not even so much as an  Are you being helped  ', 'Food was delicious ', 'AN HOUR    seriously ', 'I consider this theft ', 'Eew    This location needs a complete overhaul ', 'We recently witnessed her poor quality of management towards other guests as well ', 'Waited and waited and waited ', 'He also came back to check on us regularly  excellent service ', 'Our server was super nice and checked on us many times ', 'The pizza tasted old  super chewy in not a good way ', 'I swung in to give them a try but was deeply disappointed ', 'Service was good and the company was better ', 'The staff are also very friendly and efficient ', 'As for the service  I m a fan  because it s quick and you re being served by some nice folks ', 'Boy was that sucker dry   ', 'Over rated ', 'If you look for authentic Thai food  go else where ', 'Their steaks are      recommended ', 'After I pulled up my car I waited for another    minutes before being acknowledged ', 'Great food and great service in a clean and friendly setting ', 'All in all  I can assure you I ll be back ', 'I hate those things as much as cheap quality black olives ', 'My breakfast was perpared great  with a beautiful presentation of   giant slices of Toast  lightly dusted with powdered sugar ', 'The kids play area is NASTY ', 'Great place fo take out or eat in ', 'The waitress was friendly and happy to accomodate for vegan veggie options ', 'OMG I felt like I had never eaten Thai food until this dish ', 'It was extremely  crumby  and pretty tasteless ', 'It was a pale color instead of nice and char and has NO flavor ', 'The croutons also taste homemade which is an extra plus ', 'I got home to see the driest damn wings ever ', 'It ll be a regular stop on my trips to Phoenix ', 'I really enjoyed Crema Caf  before they expanded  I even told friends they had the BEST breakfast ', 'Not good for the money ', 'I miss it and wish they had one in Philadelphia ', 'We got sitting fairly fast  but  ended up waiting    minutes just to place our order  another    minutes before the food arrived ', 'They also have the best cheese crisp in town ', 'Good value  great food  great service ', 'Couldn t ask for a more satisfying meal ', 'The food is good ', 'It was awesome ', 'I just wanted to leave ', 'We made the drive all the way from North Scottsdale    and I was not one bit disappointed ', 'I will not be eating there again ', '     THE OWNERS REALLY REALLY need to quit being soooooo cheap let them wrap my freaking sandwich in two papers not one ', 'I checked out this place a couple years ago and was not impressed ', 'The chicken I got was definitely reheated and was only ok  the wedges were cold and soggy ', 'Sorry  I will not be getting food from here anytime soon   ', 'An absolute must visit ', 'The cow tongue and cheek tacos are amazing ', 'My friend did not like his Bloody Mary ', 'Despite how hard I rate businesses  its actually rare for me to give a   star ', 'They really want to make your experience a good one ', 'I will not return ', 'I had the chicken Pho and it tasted very bland ', 'Very disappointing   ', 'The grilled chicken was so tender and yellow from the saffron seasoning ', 'a drive thru means you do not want to wait around for half an hour for your food  but somehow when we end up going here they make us wait and wait ', 'Pretty awesome place ', 'Ambience is perfect ', 'Best of luck to the rude and non customer service focused new management ', 'Any grandmother can make a roasted chicken better than this one ', 'I asked multiple times for the wine list and after some time of being ignored I went to the hostess and got one myself ', 'The staff is always super friendly and helpful  which is especially cool when you bring two small boys and a baby ', 'Four stars for the food   the guy in the blue shirt for his great vibe   still letting us in to eat  ', 'The roast beef sandwich tasted really good ', 'Same evening  him and I are both drastically sick ', 'High quality chicken on the chicken Caesar salad ', 'Ordered burger rare came in we ll done ', 'We were promptly greeted and seated ', 'Tried to go here for lunch and it was a madhouse ', 'I was proven dead wrong by this sushi bar  not only because the quality is great  but the service is fast and the food  impeccable ', 'After waiting an hour and being seated  I was not in the greatest of moods ', 'This is a good joint ', 'The Macarons here are insanely good ', 'I m not eating here ', 'Our waiter was very attentive  friendly  and informative ', 'Maybe if they weren t cold they would have been somewhat edible ', 'This place has a lot of promise but fails to deliver ', 'Very bad Experience ', 'What a mistake ', 'Food was average at best ', 'Great food ', 'We won t be going back anytime soon ', 'Very Very Disappointed ordered the     Big Bay Plater ', 'Great place to relax and have an awesome burger and beer ', 'It is PERFECT for a sit down family meal or get together with a few friends ', 'Not much flavor to them  and very poorly constructed ', 'The patio seating was very comfortable ', 'The fried rice was dry as well ', 'Hands down my favorite Italian restaurant ', 'That just SCREAMS  LEGIT  in my book   somethat s also pretty rare here in Vegas ', 'It was just not a fun experience ', 'The atmosphere was great with a lovely duo of violinists playing songs we requested ', 'I personally love the hummus  pita  baklava  falafels and Baba Ganoush  it s amazing what they do with eggplant   ', 'Very convenient  since we were staying at the MGM ', 'The owners are super friendly and the staff is courteous ', 'Both great ', 'Eclectic selection ', 'The sweet potato tots were good but the onion rings were perfection or as close as I have had ', 'The staff was very attentive ', 'And the chef was generous with his time  even came around twice so we can take pictures with him  ', 'The owner used to work at Nobu  so this place is really similar for half the price ', 'Google mediocre and I imagine Smashburger will pop up ', 'dont go here ', 'I promise they won t disappoint ', 'As a sushi lover avoid this place by all means ', 'What a great double cheeseburger ', 'Awesome service and food ', 'A fantastic neighborhood gem    ', 'I can t wait to go back ', 'The plantains were the worst I ve ever tasted ', 'It s a great place and I highly recommend it ', 'Service was slow and not attentive ', 'I gave it   stars then  and I m giving it   stars now ', 'Your staff spends more time talking to themselves than me ', 'Dessert  Panna Cotta was amazing ', 'Very good food  great atmosphere  ', 'Damn good steak ', 'Total brunch fail ', 'Prices are very reasonable  flavors are spot on  the sauce is home made  and the slaw is not drenched in mayo ', 'The decor is nice  and the piano music soundtrack is pleasant ', 'The steak was amazing   rge fillet relleno was the best seafood plate i have ever had ', 'Good food   good service  ', 'It was absolutely amazing ', 'I probably won t be back  to be honest ', 'will definitely be back ', 'The sergeant pepper beef sandwich with auju sauce is an excellent sandwich as well ', 'Hawaiian Breeze  Mango Magic  and Pineapple Delight are the smoothies that I ve tried so far and they re all good ', 'Went for lunch   service was slow ', 'We had so much to say about the place before we walked in that he expected it to be amazing  but was quickly disappointed ', 'I was mortified ', 'Needless to say  we will never be back here again ', 'Anyways  The food was definitely not filling at all  and for the price you pay you should expect more ', 'The chips that came out were dripping with grease  and mostly not edible ', 'I wasn t really impressed with Strip Steak ', 'Have been going since      and every meal has been awesome  ', 'Our server was very nice and attentive as were the other serving staff ', 'The cashier was friendly and even brought the food out to me ', 'I work in the hospitality industry in Paradise Valley and have refrained from recommending Cibo any longer ', 'The atmosphere here is fun ', 'Would not recommend to others ', 'Service is quick and even  to go  orders are just like we like it ', 'I mean really  how do you get so famous for your fish and chips when it s so terrible   ', 'That said  our mouths and bellies were still quite pleased ', 'Not my thing ', '  Thumbs Up  ', 'If you are reading this please don t go there ', 'I loved the grilled pizza  reminded me of legit Italian pizza ', 'Only Pros   Large seating area  Nice bar area  Great simple drink menu  The BEST brick oven pizza with homemade dough ', 'They have a really nice atmosphere ', 'Tonight I had the Elk Filet special   and it sucked ', 'After one bite  I was hooked ', 'We ordered some old classics and some new dishes after going there a few times and were sorely disappointed with everything ', 'Cute  quaint  simple  honest ', 'The chicken was deliciously seasoned and had the perfect fry on the outside and moist chicken on the inside ', 'The food was great as always  compliments to the chef ', 'Special thanks to Dylan T  for the recommendation on what to order    All yummy for my tummy ', 'Awesome selection of beer ', 'Great food and awesome service ', 'One nice thing was that they added gratuity on the bill since our party was larger than   or    and they didn t expect more tip than that ', 'A FLY was in my apple juice   A FLY        ', 'The Han Nan Chicken was also very tasty ', 'As for the service  I thought it was good ', 'The food was barely lukewarm  so it must have been sitting waiting for the server to bring it out to us ', 'Ryan s Bar is definitely one Edinburgh establishment I won t be revisiting ', 'Nicest Chinese restaurant I ve been in a while ', 'Overall  I like there food and the service ', 'They also now serve Indian naan bread with hummus and some spicy pine nut sauce that was out of this world ', 'Probably never coming back  and wouldn t recommend it ', 'Friend s pasta    also bad  he barely touched it ', 'Try them in the airport to experience some tasty food and speedy  friendly service ', 'I love the decor with the Chinese calligraphy wall paper ', 'Never had anything to complain about here ', 'The restaurant is very clean and has a family restaurant feel to it ', 'It was way over fried ', 'I m not sure how long we stood there but it was long enough for me to begin to feel awkwardly out of place ', 'When I opened the sandwich  I was impressed  but not in a good way ', 'Will not be back ', 'There was a warm feeling with the service and I felt like their guest for a special treat ', 'An extensive menu provides lots of options for breakfast ', 'I always order from the vegetarian menu during dinner  which has a wide array of options to choose from ', 'I have watched their prices inflate  portions get smaller and management attitudes grow rapidly ', 'Wonderful lil tapas and the ambience made me feel all warm and fuzzy inside ', 'I got to enjoy the seafood salad  with a fabulous vinegrette ', 'The wontons were thin  not thick and chewy  almost melt in your mouth ', 'Level   spicy was perfect  where spice didn t over whelm the soup ', 'We were sat right on time and our server from the get go was FANTASTIC ', 'Main thing I didn t enjoy is that the crowd is of older crowd  around mid   s and up ', 'When I m on this side of town  this will definitely be a spot I ll hit up again ', 'I had to wait over    minutes to get my drink and longer to get   arepas ', 'This is a GREAT place to eat ', 'The jalapeno bacon is soooo good ', 'The service was poor and thats being nice ', 'Food was good  service was good  Prices were good ', 'The place was not clean and the food oh so stale ', 'The chicken dishes are OK  the beef is like shoe leather ', 'But the service was beyond bad ', 'I m so happy to be here    ', 'Tasted like dirt ', 'One of the few places in Phoenix that I would definately go back to again  ', 'The block was amazing ', 'It s close to my house  it s low key  non fancy  affordable prices  good food ', '  Both the Hot   Sour   the Egg Flower Soups were absolutely   Stars ', 'My sashimi was poor quality being soggy and tasteless ', 'Great time   family dinner on a Sunday night ', 'the food is not tasty at all  not to say its  real traditional Hunan style  ', 'What did bother me  was the slow service ', 'The flair bartenders are absolutely amazing ', 'Their frozen margaritas are WAY too sugary for my taste ', 'These were so good we ordered them twice ', 'So in a nutshell     The restaraunt smells like a combination of a dirty fish market and a sewer ', 'My girlfriend s veal was very bad ', 'Unfortunately  it was not good ', 'I had a pretty satifying experience ', 'Join the club and get awesome offers via email ', 'Perfect for someone  me  who only likes beer ice cold  or in this case  even colder ', 'Bland and flavorless is a good way of describing the barely tepid meat ', 'The chains  which I m no fan of  beat this place easily ', 'The nachos are a MUST HAVE ', 'We will not be coming back ', 'I don t have very many words to say about this place  but it does everything pretty well ', 'The staff is super nice and very quick even with the crazy crowds of the downtown juries  lawyers  and court staff ', 'Great atmosphere  friendly and fast service ', 'When I received my Pita it was huge it did have a lot of meat in it so thumbs up there ', 'Once your food arrives it s meh ', 'Paying       for a hot dog and fries that looks like it came out of a kid s meal at the Wienerschnitzel is not my idea of a good meal ', 'The classic Maine Lobster Roll was fantastic ', 'My brother in law who works at the mall ate here same day  and guess what he was sick all night too ', 'So good I am going to have to review this place twice   once hereas a tribute to the place and once as a tribute to an event held here last night ', 'The chips and salsa were really good  the salsa was very fresh ', 'This place is great              ', 'Mediocre food ', 'Once you get inside you ll be impressed with the place ', 'I m super pissd ', 'And service was super friendly ', 'Why are these sad little vegetables so overcooked ', 'This place was such a nice surprise ', 'They were golden crispy and delicious ', 'I had high hopes for this place since the burgers are cooked over a charcoal grill  but unfortunately the taste fell flat  way flat ', 'I could eat their bruschetta all day it is devine ', 'Not a single employee came out to see if we were OK or even needed a water refill once they finally served us our food ', 'Lastly  the mozzarella sticks  they were the best thing we ordered ', 'The first time I ever came here I had an amazing experience  I still tell people how awesome the duck was ', 'The server was very negligent of our needs and made us feel very unwelcome    I would not suggest this place ', 'The service was terrible though ', 'This place is overpriced  not consistent with their boba  and it really is OVERPRICED ', 'It was packed  ', 'I love this place ', 'I can say that the desserts were yummy ', 'The food was terrible ', 'The seasonal fruit was fresh white peach puree ', 'It kept getting worse and worse so now I m officially done ', 'This place should honestly be blown up ', 'But I definitely would not eat here again ', 'Do not waste your money here ', 'I love that they put their food in nice plastic containers as opposed to cramming it in little paper takeout boxes ', 'The cr pe was delicate and thin and moist ', 'Awful service ', 'Won t ever go here again ', 'Food quality has been horrible ', 'For that price I can think of a few place I would have much rather gone ', 'The service here is fair at best ', 'I do love sushi  but I found Kabuki to be over priced  over hip and under services ', 'Do yourself a favor and stay away from this dish ', 'Very poor service ', 'No one at the table thought the food was above average or worth the wait that we had for it ', 'Best service and food ever  Maria our server was so good and friendly she made our day ', 'They were excellent ', 'I paid the bill but did not tip because I felt the server did a terrible job ', 'Just had lunch here and had a great experience ', 'I have never had such bland food which surprised me considering the article we read focused so much on their spices and flavor ', 'Food is way overpriced and portions are fucking small ', 'I recently tried Caballero s and I have been back every week since ', 'for    bucks a head  i really expect better food ', 'The food came out at a good pace ', 'I ate there twice on my last visit  and especially enjoyed the salmon salad ', 'I won t be back ', 'We could not believe how dirty the oysters were ', 'This place deserves no stars ', 'I would not recommend this place ', 'In fact I m going to round up to   stars  just because she was so awesome ', 'To my disbelief  each dish qualified as the worst version of these foods I have ever tasted ', 'Bad day or not  I have a very low tolerance for rude customer service people  it is your job to be nice and polite  wash dishes otherwise  ', 'the potatoes were great and so was the biscuit ', 'I probably would not go here again ', 'So flavorful and has just the perfect amount of heat ', 'The price is reasonable and the service is great ', 'The Wife hated her meal  coconut shrimp   and our friends really did not enjoy their meals  either ', 'My fella got the huevos rancheros and they didn t look too appealing ', 'Went in for happy hour  great list of wines ', 'Some may say this buffet is pricey but I think you get what you pay for and this place you are getting quite a lot ', 'I probably won t be coming back here ', 'Worst food service I ve had in a while ', 'This place is pretty good  nice little vibe in the restaurant ', 'Talk about great customer service of course we will be back ', 'Hot dishes are not hot  cold dishes are close to room temp I watched staff prepare food with BARE HANDS  no gloves Everything is deep fried in oil ', 'I love their fries and their beans ', 'Always a pleasure dealing with him ', 'They have a plethora of salads and sandwiches  and everything I ve tried gets my seal of approval ', 'This place is awesome if you want something light and healthy during the summer ', 'For sushi on the Strip  this is the place to go ', 'The service was great  even the manager came and helped with our table ', 'The feel of the dining room was more college cooking course than high class dining and the service was slow at best ', 'I started this review with two stars  but I m editing it to give it only one ', 'this is the worst sushi i have ever eat besides Costco s ', 'All in all an excellent restaurant highlighted by great service  a unique menu  and a beautiful setting ', 'My boyfriend and i sat at the bar and had a completely delightful experience ', 'Weird vibe from owners ', 'There was hardly any meat ', 'I ve had better bagels from the grocery store ', 'Go To Place for Gyros ', 'I love the owner chef  his one authentic Japanese cool dude ', 'Now the burgers aren t as good  the pizza which used to be amazing is doughy and flavorless ', 'I found a six inch long piece of wire in my salsa ', 'The service was terrible  food was mediocre ', 'We definately enjoyed ourselves ', 'I ordered Albondigas soup   which was just warm   and tasted like tomato soup with frozen meatballs ', 'On three different occasions I asked for well done or medium well  and all three times I got the bloodiest piece of meat on my plate ', 'I had about two bites and refused to eat anymore ', 'The service was extremely slow ', 'After    minutes wait  I got a table ', 'Seriously killer hot chai latte ', 'No allergy warnings on the menu  and the waitress had absolutely no clue as to which meals did or did not contain peanuts ', 'My boyfriend tried the Mediterranean Chicken Salad and fell in love ', 'Their rotating beers on tap is also a highlight of this place ', 'Pricing is a bit of a concern at Mellow Mushroom ', 'Worst Thai ever ', 'If you stay in Vegas you must get breakfast here at least once ', 'I want to first say our server was great and we had perfect service ', 'The pizza selections are good ', 'I had strawberry tea  which was good ', 'Highly unprofessional and rude to a loyal patron ', 'Overall  a great experience ', 'Spend your money elsewhere ', 'Their regular toasted bread was equally satisfying with the occasional pats of butter    Mmmm    ', 'The Buffet at Bellagio was far from what I anticipated ', 'And the drinks are WEAK  people ', ' My order was not correct ', 'Also  I feel like the chips are bought  not made in house ', 'After the disappointing dinner we went elsewhere for dessert ', 'The chips and sals a here is amazing                   ', 'We won t be returning ', 'This is my new fav Vegas buffet spot ', 'I seriously cannot believe that the owner has so many unexperienced employees that all are running around like chickens with their heads cut off ', 'Very  very sad ', 'i felt insulted and disrespected  how could you talk and judge another human being like that ', 'How can you call yourself a steakhouse if you can t properly cook a steak  I don t understand ', 'I m not impressed with the concept or the food ', 'The only thing I wasn t too crazy about was their guacamole as I don t like it pur ed ', 'There is really nothing for me at postinos  hope your experience is better', 'I got food poisoning here at the buffet ', 'They brought a fresh batch of fries and I was thinking yay something warm but no ', 'What SHOULD have been a hilarious  yummy Christmas Eve dinner to remember was the biggest fail of the entire trip for us ', 'Needless to say  I won t be going back anytime soon ', 'This place is disgusting ', 'Every time I eat here  I see caring teamwork to a professional degree ', 'The RI style calamari was a joke ', 'However  there was so much garlic in the fondue  it was barely edible ', 'I could barely stomach the meal  but didn t complain because it was a business lunch ', 'It was so bad  I had lost the heart to finish it ', 'It also took her forever to bring us the check when we asked for it ', 'We aren t ones to make a scene at restaurants but I just don t get it   definitely lost the love after this one ', 'Disappointing experience ', 'The food is about on par with Denny s  which is to say  not good at all ', 'If you want to wait for mediocre food and downright terrible service  then this is the place for you ', 'WAAAAAAyyyyyyyyyy over rated is all I am saying ', 'We won t be going back ', 'The place was fairly clean but the food simply wasn t worth it ', 'This place lacked style  ', 'The sangria was about half of a glass wine full and was      ridiculous ', 'Don t bother coming here ', 'The meat was pretty dry  I had the sliced brisket and pulled pork ', 'The building itself seems pretty neat  the bathroom is pretty trippy  but I wouldn t eat here again ', 'It was equally awful ', 'Probably not in a hurry to go back ', 'very slow at seating even with reservation ', 'Not good by any stretch of the imagination ', 'The cashew cream sauce was bland and the vegetables were undercooked ', 'The chipolte ranch dipping sause was tasteless  seemed thin and watered down with no heat ', 'It was a bit too sweet  not really spicy enough  and lacked flavor ', 'I was VERY disappointed  ', 'This place is horrible and way overpriced ', 'Maybe it s just their Vegetarian fare  but I ve been twice and I thought it was average at best ', 'It wasn t busy at all and now we know why ', 'The tables outside are also dirty a lot of the time and the workers are not always friendly and helpful with the menu ', 'The ambiance here did not feel like a buffet setting  but more of a douchey indoor garden for tea and biscuits ', 'Con  spotty service ', 'The fries were not hot  and neither was my burger ', 'But then they came back cold ', 'Then our food came out  disappointment ensued ', 'The real disappointment was our waiter ', 'My husband said she was very rude    did not even apologize for the bad food or anything ', 'The only reason to eat here would be to fill up before a night of binge drinking just to get some carbs in your stomach ', 'Insults  profound deuchebaggery  and had to go outside for a smoke break while serving just to solidify it ', 'If someone orders two tacos don t  you think it may be part of customer service to ask if it is combo or ala cart ', 'She was quite disappointed although some blame needs to be placed at her door ', 'After all the rave reviews I couldn t wait to eat here      what a disappointment ', 'Del Taco is pretty nasty and should be avoided if possible ', 'It s NOT hard to make a decent hamburger ', 'But I don t like it ', 'Hell no will I go back', 'We ve have gotten a much better service from the pizza place next door than the services we received from this restaurant ', 'I don t know what the big deal is about this place  but I won t be back  ya all  ', 'I immediately said I wanted to talk to the manager but I did not want to talk to the guy who was doing shots of fireball behind the bar ', 'The ambiance isn t much better ', 'Unfortunately  it only set us up for disapppointment with our entrees ', 'The food wasn t good ', 'Your servers suck  wait  correction  our server Heimer sucked ', 'What happened next was pretty    off putting ', 'too bad cause I know it s family owned  I really wanted to like this place ', 'Overpriced for what you are getting ', 'I vomited in the bathroom mid lunch ', 'I kept looking at the time and it had soon become    minutes  yet still no food ', 'I have been to very few places to eat that under no circumstances would I ever return to  and this tops the list ', 'We started with the tuna sashimi which was brownish in color and obviously wasn t fresh ', 'Food was below average ', 'It sure does beat the nachos at the movies but I would expect a little bit more coming from a restaurant ', 'All in all  Ha Long Bay was a bit of a flop ', 'The problem I have is that they charge        for a sandwich that is no bigger than a Subway sub  which offers better and more amount of vegetables  ', 'Shrimp  When I unwrapped it  I live only     a mile from Brushfire  it was literally ice cold ', 'It lacked flavor  seemed undercooked  and dry ', 'It really is impressive that the place hasn t closed down ', 'I would avoid this place if you are staying in the Mirage ', 'The refried beans that came with my meal were dried out and crusty and the food was bland ', 'Spend your money and time some place else ', 'A lady at the table next to us found a live green caterpillar In her salad ', 'the presentation of the food was awful ', 'I can t tell you how disappointed I was ', 'I think food should have flavor and texture and both were lacking ', 'Appetite instantly gone ', 'Overall I was not impressed and would not go back ', 'The whole experience was underwhelming  and I think we ll just go to Ninja Sushi next time ', 'Then  as if I hadn t wasted enough of my life there  they poured salt in the wound by drawing out the time it took to bring the check ']\n"
     ]
    }
   ],
   "source": [
    "import re\n",
    "\n",
    "corpus = []\n",
    "for i in range(0, dataset['Review'].size):\n",
    "    # get review and remove non alpha chars\n",
    "    review = re.sub('[^a-zA-Z]', ' ', dataset['Review'][i])\n",
    "    # add review to corpus\n",
    "    corpus.append(review)\n",
    "\n",
    "print(corpus)"
   ]
  },
  {
   "cell_type": "markdown",
   "metadata": {},
   "source": [
    "#### Lowercasing\n",
    "\n",
    "We can then apply lowercasing, so that words such as *Amazing*, *AMAZING* and *amazing* all have the same representation."
   ]
  },
  {
   "cell_type": "code",
   "execution_count": 7,
   "metadata": {},
   "outputs": [
    {
     "name": "stdout",
     "output_type": "stream",
     "text": [
      "['wow    loved this place ', 'crust is not good ', 'not tasty and the texture was just nasty ', 'stopped by during the late may bank holiday off rick steve recommendation and loved it ', 'the selection on the menu was great and so were the prices ', 'now i am getting angry and i want my damn pho ', 'honeslty it didn t taste that fresh  ', 'the potatoes were like rubber and you could tell they had been made up ahead of time being kept under a warmer ', 'the fries were great too ', 'a great touch ', 'service was very prompt ', 'would not go back ', 'the cashier had no care what so ever on what i had to say it still ended up being wayyy overpriced ', 'i tried the cape cod ravoli  chicken  with cranberry   mmmm ', 'i was disgusted because i was pretty sure that was human hair ', 'i was shocked because no signs indicate cash only ', 'highly recommended ', 'waitress was a little slow in service ', 'this place is not worth your time  let alone vegas ', 'did not like at all ', 'the burrittos blah ', 'the food  amazing ', 'service is also cute ', 'i could care less    the interior is just beautiful ', 'so they performed ', 'that s right    the red velvet cake     ohhh this stuff is so good ', '  they never brought a salad we asked for ', 'this hole in the wall has great mexican street tacos  and friendly staff ', 'took an hour to get our food only   tables in restaurant my food was luke warm  our sever was running around like he was totally overwhelmed ', 'the worst was the salmon sashimi ', 'also there are combos like a burger  fries  and beer for    which is a decent deal ', 'this was like the final blow ', 'i found this place by accident and i could not be happier ', 'seems like a good quick place to grab a bite of some familiar pub food  but do yourself a favor and look elsewhere ', 'overall  i like this place a lot ', 'the only redeeming quality of the restaurant was that it was very inexpensive ', 'ample portions and good prices ', 'poor service  the waiter made me feel like i was stupid every time he came to the table ', 'my first visit to hiro was a delight ', 'service sucks ', 'the shrimp tender and moist ', 'there is not a deal good enough that would drag me into that establishment again ', 'hard to judge whether these sides were good because we were grossed out by the melted styrofoam and didn t want to eat it for fear of getting sick ', 'on a positive note  our server was very attentive and provided great service ', 'frozen pucks of disgust  with some of the worst people behind the register ', 'the only thing i did like was the prime rib and dessert section ', 'it s too bad the food is so damn generic ', 'the burger is good beef  cooked just right ', 'if you want a sandwich just go to any firehouse     ', 'my side greek salad with the greek dressing was so tasty  and the pita and hummus was very refreshing ', 'we ordered the duck rare and it was pink and tender on the inside with a nice char on the outside ', 'he came running after us when he realized my husband had left his sunglasses on the table ', 'their chow mein is so good ', 'they have horrible attitudes towards customers  and talk down to each one when customers don t enjoy their food ', 'the portion was huge ', 'loved it   friendly servers  great food  wonderful and imaginative menu ', 'the heart attack grill in downtown vegas is an absolutely flat lined excuse for a restaurant ', 'not much seafood and like   strings of pasta at the bottom ', 'the salad had just the right amount of sauce to not over power the scallop  which was perfectly cooked ', 'the ripped banana was not only ripped  but petrified and tasteless ', 'at least think to refill my water before i struggle to wave you over for    minutes ', 'this place receives stars for their appetizers   ', 'the cocktails are all handmade and delicious ', 'we d definitely go back here again ', 'we are so glad we found this place ', 'great food and service  huge portions and they give a military discount ', 'always a great time at dos gringos ', 'update     went back for a second time and it was still just as amazing', 'we got the food and apparently they have never heard of salt and the batter on the fish was chewy ', 'a great way to finish a great ', 'the deal included   tastings and   drinks  and jeff went above and beyond what we expected ', '  really  really good rice  all the time ', 'the service was meh ', 'it took over    min to get their milkshake  which was nothing more than chocolate milk ', 'i guess i should have known that this place would suck  because it is inside of the excalibur  but i didn t use my common sense ', 'the scallop dish is quite appalling for value as well ', '  times   very bad customer service  ', 'the sweet potato fries were very good and seasoned well ', 'today is the second time i ve been to their lunch buffet and it was pretty good ', 'there is so much good food in vegas that i feel cheated for wasting an eating opportunity by going to rice and company ', 'coming here is like experiencing an underwhelming relationship where both parties can t wait for the other person to ask to break up ', 'walked in and the place smelled like an old grease trap and only   others there eating ', 'the turkey and roast beef were bland ', 'this place has it ', 'the pan cakes everyone are raving about taste like a sugary disaster tailored to the palate of a six year old ', 'i love the pho and the spring rolls oh so yummy you have to try ', 'the poor batter to meat ratio made the chicken tenders very unsatisfying ', 'all i have to say is the food was amazing   ', 'omelets are to die for ', 'everything was fresh and delicious ', 'in summary  this was a largely disappointing dining experience ', 'it s like a really sexy party in your mouth  where you re outrageously flirting with the hottest person at the party ', 'never been to hard rock casino before  will never ever step forward in it again ', 'best breakfast buffet   ', 'say bye bye to your tip lady ', 'we ll never go again ', 'will be back again ', 'food arrived quickly ', 'it was not good ', 'on the up side  their cafe serves really good food ', 'our server was fantastic and when he found out the wife loves roasted garlic and bone marrow  he added extra to our meal and another marrow to go ', 'the only good thing was our waiter  he was very helpful and kept the bloddy mary s coming ', 'best buffet in town  for the price you cannot beat it ', 'i loved their mussels cooked in this wine reduction  the duck was tender  and their potato dishes were delicious ', 'this is one of the better buffets that i have been to ', 'so we went to tigerlilly and had a fantastic afternoon ', 'the food was delicious  our bartender was attentive and personable and we got a great deal ', 'the ambience is wonderful and there is music playing ', 'will go back next trip out ', 'sooooo good  ', 'real sushi lovers  let s be honest   yama is not that good ', 'at least   min passed in between us ordering and the food arriving  and it wasn t that busy ', 'this is a really fantastic thai restaurant which is definitely worth a visit ', 'nice  spicy and tender ', 'good prices ', 'check it out ', 'it was pretty gross ', 'i ve had better atmosphere ', 'kind of hard to mess up a steak but they did ', 'although i very much liked the look and sound of this place  the actual experience was a bit disappointing ', 'i just don t know how this place managed to served the blandest food i have ever eaten when they are preparing indian cuisine ', 'worst service to boot  but that is the least of their worries ', 'service was fine and the waitress was friendly ', 'the guys all had steaks  and our steak loving son who has had steak at the best and worst places said it was the best steak he s ever eaten ', 'we thought you d have to venture further away to get good sushi  but this place really hit the spot that night ', 'host staff were  for lack of a better word  bitches ', 'bland    not a liking this place for a number of reasons and i don t want to waste time on bad reviewing   i ll leave it at that   ', 'phenomenal food  service and ambiance ', 'i wouldn t return ', 'definitely worth venturing off the strip for the pork belly  will return next time i m in vegas ', 'this place is way too overpriced for mediocre food ', 'penne vodka excellent ', 'they have a good selection of food including a massive meatloaf sandwich  a crispy chicken wrap  a delish tuna melt and some tasty burgers ', 'the management is rude ', 'delicious nyc bagels  good selections of cream cheese  real lox with capers even ', 'great subway  in fact it s so good when you come here every other subway will not meet your expectations ', 'i had a seriously solid breakfast here ', 'this is one of the best bars with food in vegas ', 'he was extremely rude and really  there are so many other restaurants i would love to dine at during a weekend in vegas ', 'my drink was never empty and he made some really great menu suggestions ', 'don t do it    ', 'the waiter wasn t helpful or friendly and rarely checked on us ', 'my husband and i ate lunch here and were very disappointed with the food and service ', 'and the red curry had so much bamboo shoots and wasn t very tasty to me ', 'nice blanket of moz over top but i feel like this was done to cover up the subpar food ', 'the bathrooms are clean and the place itself is well decorated ', 'the menu is always changing  food quality is going down   service is extremely slow ', 'the service was a little slow   considering that were served by   people servers so the food was coming in a slow pace ', 'i give it   thumbs down', 'we watched our waiter pay a lot more attention to other tables and ignore us ', 'my fianc  and i came in the middle of the day and we were greeted and seated right away ', 'this is a great restaurant at the mandalay bay ', 'we waited for forty five minutes in vain ', 'crostini that came with the salad was stale ', 'some highlights   great quality nigiri here ', 'the staff is friendly and the joint is always clean ', 'this was a different cut than the piece the other day but still wonderful and tender s well as well flavored ', 'i ordered the voodoo pasta and it was the first time i d had really excellent pasta since going gluten free several years ago ', 'this place is good ', 'unfortunately  we must have hit the bakery on leftover day because everything we ordered was stale ', 'i came back today since they relocated and still not impressed ', 'i was seated immediately ', 'their menu is diverse  and reasonably priced ', 'avoid at all cost ', 'restaurant is always full but never a wait ', 'delicious  ', 'this place is hands down one of the best places to eat in the phoenix metro area ', 'so don t go there if you are looking for good food   ', 'i ve never been treated so bad ', 'bacon is hella salty ', 'we also ordered the spinach and avocado salad  the ingredients were sad and the dressing literally had zero taste ', 'this really is how vegas fine dining used to be  right down to the menus handed to the ladies that have no prices listed ', 'the waitresses are very friendly ', 'lordy  the khao soi is a dish that is not to be missed for curry lovers ', 'everything on the menu is terrific and we were also thrilled that they made amazing accommodations for our vegetarian daughter ', 'perhaps i caught them on an off night judging by the other reviews  but i m not inspired to go back ', 'the service here leaves a lot to be desired ', 'the atmosphere is modern and hip  while maintaining a touch of coziness ', 'not a weekly haunt  but definitely a place to come back to every once in a while ', 'we literally sat there for    minutes with no one asking to take our order ', 'the burger had absolutely no flavor   the meat itself was totally bland  the burger was overcooked and there was no charcoal flavor ', 'i also decided not to send it back because our waitress looked like she was on the verge of having a heart attack ', 'i dressed up to be treated so rudely ', 'it was probably dirt ', 'love this place  hits the spot when i want something healthy but not lacking in quantity or flavor ', 'i ordered the lemon raspberry ice cocktail which was also incredible ', 'the food sucked  which we expected but it sucked more than we could have imagined ', 'interesting decor ', 'what i really like there is the crepe station ', 'also were served hot bread and butter  and home made potato chips with bacon bits on top    very original and very good ', 'you can watch them preparing the delicious food  ', 'both of the egg rolls were fantastic ', 'when my order arrived  one of the gyros was missing ', 'i had a salad with the wings  and some ice cream for dessert and left feeling quite satisfied ', 'i m not really sure how joey s was voted best hot dog in the valley by readers of phoenix magazine ', 'the best place to go for a tasty bowl of pho ', 'the live music on fridays totally blows ', 'i ve never been more insulted or felt disrespected ', 'very friendly staff ', 'it is worth the drive ', 'i had heard good things about this place  but it exceeding every hope i could have dreamed of ', 'food was great and so was the serivce ', 'the warm beer didn t help ', 'great brunch spot ', 'service is friendly and inviting ', 'very good lunch spot ', 'i ve lived here since      and this was the first  and last  time i ve stepped foot into this place ', 'the worst experience ever ', 'must have been an off night at this place ', 'the sides are delish   mixed mushrooms  yukon gold puree  white corn   beateous ', 'if that bug never showed up i would have given a   for sure  but on the other side of the wall where this bug was climbing was the kitchen ', 'for about    minutes  we we re waiting for her salad when we realized that it wasn t coming any time soon ', 'my friend loved the salmon tartar ', 'won t go back ', 'extremely tasty ', 'waitress was good though ', 'soggy and not good ', 'the jamaican mojitos are delicious ', 'which are small and not worth the price ', '  the food is rich so order accordingly ', 'the shower area is outside so you can only rinse  not take a full shower  unless you don t mind being nude for everyone to see ', 'the service was a bit lacking ', 'lobster bisque  bussell sprouts  risotto  filet all needed salt and pepper  and of course there is none at the tables ', 'hopefully this bodes for them going out of business and someone who can cook can come in ', 'it was either too cold  not enough flavor or just bad ', 'i loved the bacon wrapped dates ', 'this is an unbelievable bargain ', 'the folks at otto always make us feel so welcome and special ', 'as for the  mains   also uninspired ', 'this is the place where i first had pho and it was amazing  ', 'this wonderful experience made this place a must stop whenever we are in town again ', 'if the food isn t bad enough for you  then enjoy dealing with the world s worst annoying drunk people ', 'very very fun chef ', 'ordered a double cheeseburger   got a single patty that was falling apart  picture uploaded  yeah  still sucks ', 'great place to have a couple drinks and watch any and all sporting events as the walls are covered with tv s ', 'if it were possible to give them zero stars  they d have it ', 'the descriptions said  yum yum sauce  and another said  eel sauce   yet another said  spicy mayo    well none of the rolls had sauces on them ', 'i d say that would be the hardest decision    honestly  all of m s dishes taste how they are supposed to taste  amazing  ', 'if she had not rolled the eyes we may have stayed    not sure if we will go back and try it again ', 'everyone is very attentive  providing excellent customer service ', 'horrible   don t waste your time and money ', 'now this dish was quite flavourful ', 'by this time our side of the restaurant was almost empty so there was no excuse ', ' it wasn t busy either  also  the building was freezing cold ', 'like the other reviewer said  you couldn t pay me to eat at this place again  ', ' drinks took close to    minutes to come out at one point ', 'seriously flavorful delights  folks ', 'much better than the other ayce sushi place i went to in vegas ', 'the lighting is just dark enough to set the mood ', 'based on the sub par service i received and no effort to show their gratitude for my business i won t be going back ', 'owner s are really great people  ', 'there is nothing privileged about working eating there ', 'the greek dressing was very creamy and flavorful ', 'overall  i don t think that i would take my parents to this place again because they made most of the similar complaints that i silently felt too ', 'now the pizza itself was good the peanut sauce was very tasty ', 'we had   at our table and the service was pretty fast ', 'fantastic service here ', 'i as well would ve given godfathers zero stars if possible ', 'they know how to make them here ', 'very tough and very short on flavor ', 'i hope this place sticks around ', 'i have been in more than a few bars in vegas  and do not ever recall being charged for tap water ', 'the restaurant atmosphere was exquisite ', 'good service  very clean  and inexpensive  to boot ', 'the seafood was fresh and generous in portion ', 'plus  it s only   bucks ', 'the service was not up to par  either ', 'thus far  have only visited twice and the food was absolutely delicious each time ', 'just as good as when i had it more than a year ago ', 'for a self proclaimed coffee cafe  i was wildly disappointed ', 'the veggitarian platter is out of this world ', 'you cant go wrong with any of the food here ', 'you can t beat that ', 'stopped by this place while in madison for the ironman  very friendly  kind staff ', 'the chefs were friendly and did a good job ', 'i ve had better  not only from dedicated boba tea spots  but even from jenni pho ', 'i liked the patio and the service was outstanding ', 'the goat taco didn t skimp on the meat and wow what flavor ', 'i think not again', 'i had the mac salad and it was pretty bland so i will not be getting that again ', 'i went to bachi burger on a friend s recommendation and was not disappointed ', 'service stinks here ', 'i waited and waited ', 'this place is not quality sushi  it is not a quality restaurant ', 'i would definitely recommend the wings as well as the pizza ', 'great pizza and salads ', 'things that went wrong    they burned the saganaki ', 'we waited an hour for what was a breakfast i could have done     times better at home ', 'this place is amazing ', 'i hate to disagree with my fellow yelpers  but my husband and i were so disappointed with this place ', 'waited   hours   never got either of our pizzas as many other around us who came in later did ', 'just don t know why they were so slow ', 'the staff is great  the food is delish  and they have an incredible beer selection ', 'i live in the neighborhood so i am disappointed i won t be back here  because it is a convenient location ', 'i didn t know pulled pork could be soooo delicious ', 'you get incredibly fresh fish  prepared with care ', 'before i go in to why i gave a   star rating please know that this was my third time eating at bachi burger before writing a review ', 'i love the fact that everything on their menu is worth it ', 'never again will i be dining at this place ', 'the food was excellent and service was very good ', 'good beer   drink selection and good food selection ', 'please stay away from the shrimp stir fried noodles ', 'the potato chip order was sad    i could probably count how many chips were in that box and it was probably around    ', 'food was really boring ', 'good service check ', 'this greedy corporation will never see another dime from me ', 'will never  ever go back ', 'as much as i d like to go back  i can t get passed the atrocious service and will never return ', 'in the summer  you can dine in a charming outdoor patio   so very delightful ', 'i did not expect this to be so good ', 'fantastic food ', 'she ordered a toasted english muffin that came out untoasted ', 'the food was very good ', 'never going back ', 'great food for the price  which is very high quality and house made ', 'the bus boy on the other hand was so rude ', 'by this point  my friends and i had basically figured out this place was a joke and didn t mind making it publicly and loudly known ', 'back to good bbq  lighter fare  reasonable pricing and tell the public they are back to the old ways ', 'and considering the two of us left there very full and happy for about      you just can t go wrong ', 'all the bread is made in house ', 'the only downside is the service ', 'also  the fries are without a doubt the worst fries i ve ever had ', 'service was exceptional and food was a good as all the reviews ', 'a couple of months later  i returned and had an amazing meal ', 'favorite place in town for shawarrrrrrma      ', 'the black eyed peas and sweet potatoes    unreal ', 'you won t be disappointed ', 'they could serve it with just the vinaigrette and it may make for a better overall dish  but it was still very good ', 'i go to far too many places and i ve never seen any restaurant that serves a   egg breakfast  especially for       ', 'when my mom and i got home she immediately got sick and she only had a few bites of salad ', 'the servers are not pleasant to deal with and they don t always honor pizza hut coupons ', 'both of them were truly unbelievably good  and i am so glad we went back ', 'we had fantastic service  and were pleased by the atmosphere ', 'everything was gross ', 'i love this place ', 'great service and food ', 'first   the bathrooms at this location were dirty  seat covers were not replenished   just plain yucky   ', 'the burger    i got the  gold standard  a     burger and was kind of disappointed ', 'omg  the food was delicioso ', 'there is nothing authentic about this place ', 'the spaghetti is nothing special whatsoever ', 'of all the dishes  the salmon was the best  but all were great ', 'the vegetables are so fresh and the sauce feels like authentic thai ', 'it s worth driving up from tucson ', 'the selection was probably the worst i ve seen in vegas     there was none ', 'pretty good beer selection too ', 'this place is like chipotle  but better ', 'classy warm atmosphere  fun and fresh appetizers  succulent steaks  baseball steak     ', '  stars for the brick oven bread app ', 'i have eaten here multiple times  and each time the food was delicious ', 'we sat another ten minutes and finally gave up and left ', 'he was terrible ', 'everyone is treated equally special ', 'it shouldn t take    min for pancakes and eggs ', 'it was delicious   ', 'on the good side  the staff was genuinely pleasant and enthusiastic   a real treat ', 'sadly  gordon ramsey s steak is a place we shall sharply avoid during our next trip to vegas ', 'as always the evening was wonderful and the food delicious ', 'best fish i ve ever had in my life ', ' the bathroom is just next door and very nice  ', 'the buffet is small and all the food they offered was bland ', 'this is an outstanding little restaurant with some of the best food i have ever tasted ', 'pretty cool i would say ', 'definitely a turn off for me   i doubt i ll be back unless someone else is buying ', 'server did a great job handling our large rowdy table ', 'i find wasting food to be despicable  but this just wasn t food ', 'my wife had the lobster bisque soup which was lukewarm ', 'would come back again if i had a sushi craving while in vegas ', 'the staff are great  the ambiance is great ', 'he deserves   stars ', 'i left with a stomach ache and felt sick the rest of the day ', 'they dropped more than the ball ', 'the dining space is tiny  but elegantly decorated and comfortable ', 'they will customize your order any way you d like  my usual is eggplant with green bean stir fry  love it ', 'and the beans and rice were mediocre at best ', 'best tacos in town by far  ', 'i took back my money and got outta there ', 'in an interesting part of town  this place is amazing ', 'rude   inconsiderate management ', 'the staff are now not as friendly  the wait times for being served are horrible  no one even says hi for the first    minutes ', 'i won t be back ', 'they have great dinners ', 'the service was outshining   i definitely recommend the halibut ', 'the food was terrible ', 'will never ever go back and have told many people what had happened ', 'i don t recommend unless your car breaks down in front of it and you are starving ', 'i will come back here every time i m in vegas ', 'this place deserves one star and     has to do with the food ', 'this is a disgrace ', 'def coming back to bowl next time', 'if you want healthy authentic or ethic food  try this place ', 'i will continue to come here on ladies night andddd date night     highly recommend this place to anyone who is in the area ', 'i have been here several times in the past  and the experience has always been great ', 'we walked away stuffed and happy about our first vegas buffet experience ', 'service was excellent and prices are pretty reasonable considering this is vegas and located inside the crystals shopping mall by aria ', 'to summarize    the food was incredible  nay  transcendant    but nothing brings me joy quite like the memory of the pneumatic condiment dispenser ', 'i m probably one of the few people to ever go to ians and not like it ', 'kids pizza is always a hit too with lots of great side dish options for the kiddos ', 'service is perfect and the family atmosphere is nice to see ', 'cooked to perfection and the service was impeccable ', 'this one is simply a disappointment ', 'overall  i was very disappointed with the quality of food at bouchon ', 'i don t have to be an accountant to know i m getting screwed ', 'great place to eat  reminds me of the little mom and pop shops in the san francisco bay area ', 'today was my first taste of a buldogis gourmet hot dog and i have to tell you it was more than i ever thought possible ', 'left very frustrated ', 'i ll definitely be in soon again ', 'food was really good and i got full petty fast ', 'service was fantastic ', 'total waste of time ', 'i don t know what kind it is but they have the best iced tea ', 'come hungry  leave happy and stuffed ', 'for service  i give them no stars ', 'i can assure you that you won t be disappointed ', 'i can take a little bad service but the food sucks ', 'gave up trying to eat any of the crust  teeth still sore  ', 'but now i was completely grossed out ', 'i really enjoyed eating here ', 'first time going but i think i will quickly become a regular ', 'our server was very nice  and even though he looked a little overwhelmed with all of our needs  he stayed professional and friendly until the end ', 'from what my dinner companions told me   everything was very fresh with nice texture and taste ', 'on the ground  right next to our table was a large  smeared  been stepped in and tracked everywhere pile of green bird poop ', 'furthermore  you can t even find hours of operation on the website ', 'we ve tried to like this place but after     times i think we re done with them ', 'what a mistake that was ', 'no complaints ', 'this is some seriously good pizza and i m an expert connisseur on the topic ', 'waiter was a jerk ', 'strike    who wants to be rushed ', 'these are the nicest restaurant owners i ve ever come across ', 'i never come again ', 'we loved the biscuits   ', 'service is quick and friendly ', 'ordered an appetizer and took    minutes and then the pizza another    minutes ', 'so absolutley fantastic ', 'it was a huge awkward    lb piece of cow that was    ths gristle and fat ', 'definitely will come back here again ', 'i like steiners because it s dark and it feels like a bar ', 'wow very spicy but delicious ', 'if you re not familiar  check it out ', 'i ll take my business dinner dollars elsewhere ', 'i d love to go back ', 'anyway  this fs restaurant has a wonderful breakfast lunch ', 'nothing special ', 'each day of the week they have a different deal and it s all so delicious ', 'not to mention the combination of pears  almonds and bacon is a big winner ', 'will not be back ', 'sauce was tasteless ', 'the food is delicious and just spicy enough  so be sure to ask for spicier if you prefer it that way ', 'my ribeye steak was cooked perfectly and had great mesquite flavor ', 'i don t think we ll be going back anytime soon ', 'food was so gooodd ', 'i am far from a sushi connoisseur but i can definitely tell the difference between good food and bad food and this was certainly bad food ', 'i was so insulted ', 'the last   times i had lunch here has been bad ', 'the chicken wings contained the driest chicken meat i have ever eaten ', 'the food was very good and i enjoyed every mouthful  an enjoyable relaxed venue for couples small family groups etc ', 'nargile   i think you are great ', 'best tater tots in the southwest ', 'we loved the place ', 'definitely not worth the    i paid ', 'the vanilla ice cream was creamy and smooth while the profiterole  choux  pastry was fresh enough ', 'im in az all the time and now have my new spot ', 'the manager was the worst ', 'the inside is really quite nice and very clean ', 'the food was outstanding and the prices were very reasonable ', 'i don t think i ll be running back to carly s anytime soon for food ', 'this is was due to the fact that it took    minutes to be acknowledged  then another    minutes to get our food   and they kept forgetting things ', 'love the margaritas  too ', 'this was my first and only vegas buffet and it did not disappoint ', 'very good  though ', 'the one down note is the ventilation could use some upgrading ', 'great pork sandwich ', 'don t waste your time here ', 'total letdown  i would much rather just go to the camelback flower shop and cartel coffee ', 'third  the cheese on my friend s burger was cold ', 'we enjoy their pizza and brunch ', 'the steaks are all well trimmed and also perfectly cooked ', 'we had a group of     when we claimed we would only have    and they handled us beautifully ', 'i loved it ', 'we asked for the bill to leave without eating and they didn t bring that either ', 'this place is a jewel in las vegas  and exactly what i ve been hoping to find in nearly ten years living here ', 'seafood was limited to boiled shrimp and crab legs but the crab legs definitely did not taste fresh ', 'the selection of food was not the best ', 'delicious and i will absolutely be back ', 'this isn t a small family restaurant  this is a fine dining establishment ', 'they had a toro tartare with a cavier that was extraordinary and i liked the thinly sliced wagyu with white truffle ', 'i dont think i will be back for a very long time ', 'it was attached to a gas station  and that is rarely a good sign ', 'how awesome is that ', 'i will be back many times soon ', 'the menu had so much good stuff on it i could not decide ', 'worse of all  he humiliated his worker right in front of me  bunch of horrible name callings ', 'conclusion  very filling meals ', 'their daily specials are always a hit with my group ', 'and then tragedy struck ', 'the pancake was also really good and pretty large at that ', 'this was my first crawfish experience  and it was delicious ', 'their monster chicken fried steak and eggs is my all time favorite ', 'waitress was sweet and funny ', 'i also had to taste my mom s multi grain pumpkin pancakes with pecan butter and they were amazing  fluffy  and delicious ', 'i d rather eat airline food  seriously ', 'cant say enough good things about this place ', 'the ambiance was incredible ', 'the waitress and manager are so friendly ', 'i would not recommend this place ', 'overall i wasn t very impressed with noca ', 'my gyro was basically lettuce only ', 'terrible service ', 'thoroughly disappointed ', 'i don t each much pasta  but i love the homemade  hand made pastas and thin pizzas here ', 'give it a try  you will be happy you did ', 'by far the best cheesecurds we have ever had ', 'reasonably priced also ', 'everything was perfect the night we were in ', 'the food is very good for your typical bar food ', 'it was a drive to get there ', 'at first glance it is a lovely bakery cafe   nice ambiance  clean  friendly staff ', 'anyway  i do not think i will go back there ', 'point your finger at any item on the menu  order it and you won t be disappointed ', 'oh this is such a thing of beauty  this restaurant ', 'if you haven t gone here go now ', 'a greasy  unhealthy meal ', 'first time there and might just be the last ', 'those burgers were amazing ', 'similarly  the delivery man did not say a word of apology when our food was    minutes late ', 'and it was way to expensive ', 'be sure to order dessert  even if you need to pack it to go   the tiramisu and cannoli are both to die for ', 'this was my first time and i can t wait until the next ', 'the bartender was also nice ', 'everything was good and tasty ', 'this place is two thumbs up    way up ', 'the best place in vegas for breakfast  just check out a sat  or sun ', 'if you love authentic mexican food and want a whole bunch of interesting  yet delicious meats to choose from  you need to try this place ', 'terrible management ', 'an excellent new restaurant by an experienced frenchman ', 'if there were zero stars i would give it zero stars ', 'great steak  great sides  great wine  amazing desserts ', 'worst martini ever ', 'the steak and the shrimp are in my opinion the best entrees at gc ', 'i had the opportunity today to sample your amazing pizzas ', 'we waited for thirty minutes to be seated  although there were   vacant tables and we were the only folks waiting  ', 'the yellowtail carpaccio was melt in your mouth fresh ', 'i won t try going back there even if it s empty ', 'no  i m going to eat the potato that i found some strangers hair in it ', 'just spicy enough   perfect actually ', 'last night was my second time dining here and i was so happy i decided to go back ', 'not even a  hello  we will be right with you  ', 'the desserts were a bit strange ', 'my boyfriend and i came here for the first time on a recent trip to vegas and could not have been more pleased with the quality of food and service ', 'i really do recommend this place  you can go wrong with this donut place ', 'nice ambiance ', 'i would recommend saving room for this ', 'i guess maybe we went on an off night but it was disgraceful ', 'however  my recent experience at this particular location was not so good ', 'i know this is not like the other restaurants at all  something is very off here ', 'avoid this establishment ', 'i think this restaurant suffers from not trying hard enough ', 'all of the tapas dishes were delicious ', 'i  heart  this place ', 'my salad had a bland vinegrette on the baby greens and hearts of palm ', 'after two i felt disgusting ', 'a good time ', 'i believe that this place is a great stop for those with a huge belly and hankering for sushi ', 'generous portions and great taste ', 'i will never go back to this place and will never ever recommended this place to anyone ', 'the servers went back and forth several times  not even so much as an  are you being helped  ', 'food was delicious ', 'an hour    seriously ', 'i consider this theft ', 'eew    this location needs a complete overhaul ', 'we recently witnessed her poor quality of management towards other guests as well ', 'waited and waited and waited ', 'he also came back to check on us regularly  excellent service ', 'our server was super nice and checked on us many times ', 'the pizza tasted old  super chewy in not a good way ', 'i swung in to give them a try but was deeply disappointed ', 'service was good and the company was better ', 'the staff are also very friendly and efficient ', 'as for the service  i m a fan  because it s quick and you re being served by some nice folks ', 'boy was that sucker dry   ', 'over rated ', 'if you look for authentic thai food  go else where ', 'their steaks are      recommended ', 'after i pulled up my car i waited for another    minutes before being acknowledged ', 'great food and great service in a clean and friendly setting ', 'all in all  i can assure you i ll be back ', 'i hate those things as much as cheap quality black olives ', 'my breakfast was perpared great  with a beautiful presentation of   giant slices of toast  lightly dusted with powdered sugar ', 'the kids play area is nasty ', 'great place fo take out or eat in ', 'the waitress was friendly and happy to accomodate for vegan veggie options ', 'omg i felt like i had never eaten thai food until this dish ', 'it was extremely  crumby  and pretty tasteless ', 'it was a pale color instead of nice and char and has no flavor ', 'the croutons also taste homemade which is an extra plus ', 'i got home to see the driest damn wings ever ', 'it ll be a regular stop on my trips to phoenix ', 'i really enjoyed crema caf  before they expanded  i even told friends they had the best breakfast ', 'not good for the money ', 'i miss it and wish they had one in philadelphia ', 'we got sitting fairly fast  but  ended up waiting    minutes just to place our order  another    minutes before the food arrived ', 'they also have the best cheese crisp in town ', 'good value  great food  great service ', 'couldn t ask for a more satisfying meal ', 'the food is good ', 'it was awesome ', 'i just wanted to leave ', 'we made the drive all the way from north scottsdale    and i was not one bit disappointed ', 'i will not be eating there again ', '     the owners really really need to quit being soooooo cheap let them wrap my freaking sandwich in two papers not one ', 'i checked out this place a couple years ago and was not impressed ', 'the chicken i got was definitely reheated and was only ok  the wedges were cold and soggy ', 'sorry  i will not be getting food from here anytime soon   ', 'an absolute must visit ', 'the cow tongue and cheek tacos are amazing ', 'my friend did not like his bloody mary ', 'despite how hard i rate businesses  its actually rare for me to give a   star ', 'they really want to make your experience a good one ', 'i will not return ', 'i had the chicken pho and it tasted very bland ', 'very disappointing   ', 'the grilled chicken was so tender and yellow from the saffron seasoning ', 'a drive thru means you do not want to wait around for half an hour for your food  but somehow when we end up going here they make us wait and wait ', 'pretty awesome place ', 'ambience is perfect ', 'best of luck to the rude and non customer service focused new management ', 'any grandmother can make a roasted chicken better than this one ', 'i asked multiple times for the wine list and after some time of being ignored i went to the hostess and got one myself ', 'the staff is always super friendly and helpful  which is especially cool when you bring two small boys and a baby ', 'four stars for the food   the guy in the blue shirt for his great vibe   still letting us in to eat  ', 'the roast beef sandwich tasted really good ', 'same evening  him and i are both drastically sick ', 'high quality chicken on the chicken caesar salad ', 'ordered burger rare came in we ll done ', 'we were promptly greeted and seated ', 'tried to go here for lunch and it was a madhouse ', 'i was proven dead wrong by this sushi bar  not only because the quality is great  but the service is fast and the food  impeccable ', 'after waiting an hour and being seated  i was not in the greatest of moods ', 'this is a good joint ', 'the macarons here are insanely good ', 'i m not eating here ', 'our waiter was very attentive  friendly  and informative ', 'maybe if they weren t cold they would have been somewhat edible ', 'this place has a lot of promise but fails to deliver ', 'very bad experience ', 'what a mistake ', 'food was average at best ', 'great food ', 'we won t be going back anytime soon ', 'very very disappointed ordered the     big bay plater ', 'great place to relax and have an awesome burger and beer ', 'it is perfect for a sit down family meal or get together with a few friends ', 'not much flavor to them  and very poorly constructed ', 'the patio seating was very comfortable ', 'the fried rice was dry as well ', 'hands down my favorite italian restaurant ', 'that just screams  legit  in my book   somethat s also pretty rare here in vegas ', 'it was just not a fun experience ', 'the atmosphere was great with a lovely duo of violinists playing songs we requested ', 'i personally love the hummus  pita  baklava  falafels and baba ganoush  it s amazing what they do with eggplant   ', 'very convenient  since we were staying at the mgm ', 'the owners are super friendly and the staff is courteous ', 'both great ', 'eclectic selection ', 'the sweet potato tots were good but the onion rings were perfection or as close as i have had ', 'the staff was very attentive ', 'and the chef was generous with his time  even came around twice so we can take pictures with him  ', 'the owner used to work at nobu  so this place is really similar for half the price ', 'google mediocre and i imagine smashburger will pop up ', 'dont go here ', 'i promise they won t disappoint ', 'as a sushi lover avoid this place by all means ', 'what a great double cheeseburger ', 'awesome service and food ', 'a fantastic neighborhood gem    ', 'i can t wait to go back ', 'the plantains were the worst i ve ever tasted ', 'it s a great place and i highly recommend it ', 'service was slow and not attentive ', 'i gave it   stars then  and i m giving it   stars now ', 'your staff spends more time talking to themselves than me ', 'dessert  panna cotta was amazing ', 'very good food  great atmosphere  ', 'damn good steak ', 'total brunch fail ', 'prices are very reasonable  flavors are spot on  the sauce is home made  and the slaw is not drenched in mayo ', 'the decor is nice  and the piano music soundtrack is pleasant ', 'the steak was amazing   rge fillet relleno was the best seafood plate i have ever had ', 'good food   good service  ', 'it was absolutely amazing ', 'i probably won t be back  to be honest ', 'will definitely be back ', 'the sergeant pepper beef sandwich with auju sauce is an excellent sandwich as well ', 'hawaiian breeze  mango magic  and pineapple delight are the smoothies that i ve tried so far and they re all good ', 'went for lunch   service was slow ', 'we had so much to say about the place before we walked in that he expected it to be amazing  but was quickly disappointed ', 'i was mortified ', 'needless to say  we will never be back here again ', 'anyways  the food was definitely not filling at all  and for the price you pay you should expect more ', 'the chips that came out were dripping with grease  and mostly not edible ', 'i wasn t really impressed with strip steak ', 'have been going since      and every meal has been awesome  ', 'our server was very nice and attentive as were the other serving staff ', 'the cashier was friendly and even brought the food out to me ', 'i work in the hospitality industry in paradise valley and have refrained from recommending cibo any longer ', 'the atmosphere here is fun ', 'would not recommend to others ', 'service is quick and even  to go  orders are just like we like it ', 'i mean really  how do you get so famous for your fish and chips when it s so terrible   ', 'that said  our mouths and bellies were still quite pleased ', 'not my thing ', '  thumbs up  ', 'if you are reading this please don t go there ', 'i loved the grilled pizza  reminded me of legit italian pizza ', 'only pros   large seating area  nice bar area  great simple drink menu  the best brick oven pizza with homemade dough ', 'they have a really nice atmosphere ', 'tonight i had the elk filet special   and it sucked ', 'after one bite  i was hooked ', 'we ordered some old classics and some new dishes after going there a few times and were sorely disappointed with everything ', 'cute  quaint  simple  honest ', 'the chicken was deliciously seasoned and had the perfect fry on the outside and moist chicken on the inside ', 'the food was great as always  compliments to the chef ', 'special thanks to dylan t  for the recommendation on what to order    all yummy for my tummy ', 'awesome selection of beer ', 'great food and awesome service ', 'one nice thing was that they added gratuity on the bill since our party was larger than   or    and they didn t expect more tip than that ', 'a fly was in my apple juice   a fly        ', 'the han nan chicken was also very tasty ', 'as for the service  i thought it was good ', 'the food was barely lukewarm  so it must have been sitting waiting for the server to bring it out to us ', 'ryan s bar is definitely one edinburgh establishment i won t be revisiting ', 'nicest chinese restaurant i ve been in a while ', 'overall  i like there food and the service ', 'they also now serve indian naan bread with hummus and some spicy pine nut sauce that was out of this world ', 'probably never coming back  and wouldn t recommend it ', 'friend s pasta    also bad  he barely touched it ', 'try them in the airport to experience some tasty food and speedy  friendly service ', 'i love the decor with the chinese calligraphy wall paper ', 'never had anything to complain about here ', 'the restaurant is very clean and has a family restaurant feel to it ', 'it was way over fried ', 'i m not sure how long we stood there but it was long enough for me to begin to feel awkwardly out of place ', 'when i opened the sandwich  i was impressed  but not in a good way ', 'will not be back ', 'there was a warm feeling with the service and i felt like their guest for a special treat ', 'an extensive menu provides lots of options for breakfast ', 'i always order from the vegetarian menu during dinner  which has a wide array of options to choose from ', 'i have watched their prices inflate  portions get smaller and management attitudes grow rapidly ', 'wonderful lil tapas and the ambience made me feel all warm and fuzzy inside ', 'i got to enjoy the seafood salad  with a fabulous vinegrette ', 'the wontons were thin  not thick and chewy  almost melt in your mouth ', 'level   spicy was perfect  where spice didn t over whelm the soup ', 'we were sat right on time and our server from the get go was fantastic ', 'main thing i didn t enjoy is that the crowd is of older crowd  around mid   s and up ', 'when i m on this side of town  this will definitely be a spot i ll hit up again ', 'i had to wait over    minutes to get my drink and longer to get   arepas ', 'this is a great place to eat ', 'the jalapeno bacon is soooo good ', 'the service was poor and thats being nice ', 'food was good  service was good  prices were good ', 'the place was not clean and the food oh so stale ', 'the chicken dishes are ok  the beef is like shoe leather ', 'but the service was beyond bad ', 'i m so happy to be here    ', 'tasted like dirt ', 'one of the few places in phoenix that i would definately go back to again  ', 'the block was amazing ', 'it s close to my house  it s low key  non fancy  affordable prices  good food ', '  both the hot   sour   the egg flower soups were absolutely   stars ', 'my sashimi was poor quality being soggy and tasteless ', 'great time   family dinner on a sunday night ', 'the food is not tasty at all  not to say its  real traditional hunan style  ', 'what did bother me  was the slow service ', 'the flair bartenders are absolutely amazing ', 'their frozen margaritas are way too sugary for my taste ', 'these were so good we ordered them twice ', 'so in a nutshell     the restaraunt smells like a combination of a dirty fish market and a sewer ', 'my girlfriend s veal was very bad ', 'unfortunately  it was not good ', 'i had a pretty satifying experience ', 'join the club and get awesome offers via email ', 'perfect for someone  me  who only likes beer ice cold  or in this case  even colder ', 'bland and flavorless is a good way of describing the barely tepid meat ', 'the chains  which i m no fan of  beat this place easily ', 'the nachos are a must have ', 'we will not be coming back ', 'i don t have very many words to say about this place  but it does everything pretty well ', 'the staff is super nice and very quick even with the crazy crowds of the downtown juries  lawyers  and court staff ', 'great atmosphere  friendly and fast service ', 'when i received my pita it was huge it did have a lot of meat in it so thumbs up there ', 'once your food arrives it s meh ', 'paying       for a hot dog and fries that looks like it came out of a kid s meal at the wienerschnitzel is not my idea of a good meal ', 'the classic maine lobster roll was fantastic ', 'my brother in law who works at the mall ate here same day  and guess what he was sick all night too ', 'so good i am going to have to review this place twice   once hereas a tribute to the place and once as a tribute to an event held here last night ', 'the chips and salsa were really good  the salsa was very fresh ', 'this place is great              ', 'mediocre food ', 'once you get inside you ll be impressed with the place ', 'i m super pissd ', 'and service was super friendly ', 'why are these sad little vegetables so overcooked ', 'this place was such a nice surprise ', 'they were golden crispy and delicious ', 'i had high hopes for this place since the burgers are cooked over a charcoal grill  but unfortunately the taste fell flat  way flat ', 'i could eat their bruschetta all day it is devine ', 'not a single employee came out to see if we were ok or even needed a water refill once they finally served us our food ', 'lastly  the mozzarella sticks  they were the best thing we ordered ', 'the first time i ever came here i had an amazing experience  i still tell people how awesome the duck was ', 'the server was very negligent of our needs and made us feel very unwelcome    i would not suggest this place ', 'the service was terrible though ', 'this place is overpriced  not consistent with their boba  and it really is overpriced ', 'it was packed  ', 'i love this place ', 'i can say that the desserts were yummy ', 'the food was terrible ', 'the seasonal fruit was fresh white peach puree ', 'it kept getting worse and worse so now i m officially done ', 'this place should honestly be blown up ', 'but i definitely would not eat here again ', 'do not waste your money here ', 'i love that they put their food in nice plastic containers as opposed to cramming it in little paper takeout boxes ', 'the cr pe was delicate and thin and moist ', 'awful service ', 'won t ever go here again ', 'food quality has been horrible ', 'for that price i can think of a few place i would have much rather gone ', 'the service here is fair at best ', 'i do love sushi  but i found kabuki to be over priced  over hip and under services ', 'do yourself a favor and stay away from this dish ', 'very poor service ', 'no one at the table thought the food was above average or worth the wait that we had for it ', 'best service and food ever  maria our server was so good and friendly she made our day ', 'they were excellent ', 'i paid the bill but did not tip because i felt the server did a terrible job ', 'just had lunch here and had a great experience ', 'i have never had such bland food which surprised me considering the article we read focused so much on their spices and flavor ', 'food is way overpriced and portions are fucking small ', 'i recently tried caballero s and i have been back every week since ', 'for    bucks a head  i really expect better food ', 'the food came out at a good pace ', 'i ate there twice on my last visit  and especially enjoyed the salmon salad ', 'i won t be back ', 'we could not believe how dirty the oysters were ', 'this place deserves no stars ', 'i would not recommend this place ', 'in fact i m going to round up to   stars  just because she was so awesome ', 'to my disbelief  each dish qualified as the worst version of these foods i have ever tasted ', 'bad day or not  i have a very low tolerance for rude customer service people  it is your job to be nice and polite  wash dishes otherwise  ', 'the potatoes were great and so was the biscuit ', 'i probably would not go here again ', 'so flavorful and has just the perfect amount of heat ', 'the price is reasonable and the service is great ', 'the wife hated her meal  coconut shrimp   and our friends really did not enjoy their meals  either ', 'my fella got the huevos rancheros and they didn t look too appealing ', 'went in for happy hour  great list of wines ', 'some may say this buffet is pricey but i think you get what you pay for and this place you are getting quite a lot ', 'i probably won t be coming back here ', 'worst food service i ve had in a while ', 'this place is pretty good  nice little vibe in the restaurant ', 'talk about great customer service of course we will be back ', 'hot dishes are not hot  cold dishes are close to room temp i watched staff prepare food with bare hands  no gloves everything is deep fried in oil ', 'i love their fries and their beans ', 'always a pleasure dealing with him ', 'they have a plethora of salads and sandwiches  and everything i ve tried gets my seal of approval ', 'this place is awesome if you want something light and healthy during the summer ', 'for sushi on the strip  this is the place to go ', 'the service was great  even the manager came and helped with our table ', 'the feel of the dining room was more college cooking course than high class dining and the service was slow at best ', 'i started this review with two stars  but i m editing it to give it only one ', 'this is the worst sushi i have ever eat besides costco s ', 'all in all an excellent restaurant highlighted by great service  a unique menu  and a beautiful setting ', 'my boyfriend and i sat at the bar and had a completely delightful experience ', 'weird vibe from owners ', 'there was hardly any meat ', 'i ve had better bagels from the grocery store ', 'go to place for gyros ', 'i love the owner chef  his one authentic japanese cool dude ', 'now the burgers aren t as good  the pizza which used to be amazing is doughy and flavorless ', 'i found a six inch long piece of wire in my salsa ', 'the service was terrible  food was mediocre ', 'we definately enjoyed ourselves ', 'i ordered albondigas soup   which was just warm   and tasted like tomato soup with frozen meatballs ', 'on three different occasions i asked for well done or medium well  and all three times i got the bloodiest piece of meat on my plate ', 'i had about two bites and refused to eat anymore ', 'the service was extremely slow ', 'after    minutes wait  i got a table ', 'seriously killer hot chai latte ', 'no allergy warnings on the menu  and the waitress had absolutely no clue as to which meals did or did not contain peanuts ', 'my boyfriend tried the mediterranean chicken salad and fell in love ', 'their rotating beers on tap is also a highlight of this place ', 'pricing is a bit of a concern at mellow mushroom ', 'worst thai ever ', 'if you stay in vegas you must get breakfast here at least once ', 'i want to first say our server was great and we had perfect service ', 'the pizza selections are good ', 'i had strawberry tea  which was good ', 'highly unprofessional and rude to a loyal patron ', 'overall  a great experience ', 'spend your money elsewhere ', 'their regular toasted bread was equally satisfying with the occasional pats of butter    mmmm    ', 'the buffet at bellagio was far from what i anticipated ', 'and the drinks are weak  people ', ' my order was not correct ', 'also  i feel like the chips are bought  not made in house ', 'after the disappointing dinner we went elsewhere for dessert ', 'the chips and sals a here is amazing                   ', 'we won t be returning ', 'this is my new fav vegas buffet spot ', 'i seriously cannot believe that the owner has so many unexperienced employees that all are running around like chickens with their heads cut off ', 'very  very sad ', 'i felt insulted and disrespected  how could you talk and judge another human being like that ', 'how can you call yourself a steakhouse if you can t properly cook a steak  i don t understand ', 'i m not impressed with the concept or the food ', 'the only thing i wasn t too crazy about was their guacamole as i don t like it pur ed ', 'there is really nothing for me at postinos  hope your experience is better', 'i got food poisoning here at the buffet ', 'they brought a fresh batch of fries and i was thinking yay something warm but no ', 'what should have been a hilarious  yummy christmas eve dinner to remember was the biggest fail of the entire trip for us ', 'needless to say  i won t be going back anytime soon ', 'this place is disgusting ', 'every time i eat here  i see caring teamwork to a professional degree ', 'the ri style calamari was a joke ', 'however  there was so much garlic in the fondue  it was barely edible ', 'i could barely stomach the meal  but didn t complain because it was a business lunch ', 'it was so bad  i had lost the heart to finish it ', 'it also took her forever to bring us the check when we asked for it ', 'we aren t ones to make a scene at restaurants but i just don t get it   definitely lost the love after this one ', 'disappointing experience ', 'the food is about on par with denny s  which is to say  not good at all ', 'if you want to wait for mediocre food and downright terrible service  then this is the place for you ', 'waaaaaayyyyyyyyyy over rated is all i am saying ', 'we won t be going back ', 'the place was fairly clean but the food simply wasn t worth it ', 'this place lacked style  ', 'the sangria was about half of a glass wine full and was      ridiculous ', 'don t bother coming here ', 'the meat was pretty dry  i had the sliced brisket and pulled pork ', 'the building itself seems pretty neat  the bathroom is pretty trippy  but i wouldn t eat here again ', 'it was equally awful ', 'probably not in a hurry to go back ', 'very slow at seating even with reservation ', 'not good by any stretch of the imagination ', 'the cashew cream sauce was bland and the vegetables were undercooked ', 'the chipolte ranch dipping sause was tasteless  seemed thin and watered down with no heat ', 'it was a bit too sweet  not really spicy enough  and lacked flavor ', 'i was very disappointed  ', 'this place is horrible and way overpriced ', 'maybe it s just their vegetarian fare  but i ve been twice and i thought it was average at best ', 'it wasn t busy at all and now we know why ', 'the tables outside are also dirty a lot of the time and the workers are not always friendly and helpful with the menu ', 'the ambiance here did not feel like a buffet setting  but more of a douchey indoor garden for tea and biscuits ', 'con  spotty service ', 'the fries were not hot  and neither was my burger ', 'but then they came back cold ', 'then our food came out  disappointment ensued ', 'the real disappointment was our waiter ', 'my husband said she was very rude    did not even apologize for the bad food or anything ', 'the only reason to eat here would be to fill up before a night of binge drinking just to get some carbs in your stomach ', 'insults  profound deuchebaggery  and had to go outside for a smoke break while serving just to solidify it ', 'if someone orders two tacos don t  you think it may be part of customer service to ask if it is combo or ala cart ', 'she was quite disappointed although some blame needs to be placed at her door ', 'after all the rave reviews i couldn t wait to eat here      what a disappointment ', 'del taco is pretty nasty and should be avoided if possible ', 'it s not hard to make a decent hamburger ', 'but i don t like it ', 'hell no will i go back', 'we ve have gotten a much better service from the pizza place next door than the services we received from this restaurant ', 'i don t know what the big deal is about this place  but i won t be back  ya all  ', 'i immediately said i wanted to talk to the manager but i did not want to talk to the guy who was doing shots of fireball behind the bar ', 'the ambiance isn t much better ', 'unfortunately  it only set us up for disapppointment with our entrees ', 'the food wasn t good ', 'your servers suck  wait  correction  our server heimer sucked ', 'what happened next was pretty    off putting ', 'too bad cause i know it s family owned  i really wanted to like this place ', 'overpriced for what you are getting ', 'i vomited in the bathroom mid lunch ', 'i kept looking at the time and it had soon become    minutes  yet still no food ', 'i have been to very few places to eat that under no circumstances would i ever return to  and this tops the list ', 'we started with the tuna sashimi which was brownish in color and obviously wasn t fresh ', 'food was below average ', 'it sure does beat the nachos at the movies but i would expect a little bit more coming from a restaurant ', 'all in all  ha long bay was a bit of a flop ', 'the problem i have is that they charge        for a sandwich that is no bigger than a subway sub  which offers better and more amount of vegetables  ', 'shrimp  when i unwrapped it  i live only     a mile from brushfire  it was literally ice cold ', 'it lacked flavor  seemed undercooked  and dry ', 'it really is impressive that the place hasn t closed down ', 'i would avoid this place if you are staying in the mirage ', 'the refried beans that came with my meal were dried out and crusty and the food was bland ', 'spend your money and time some place else ', 'a lady at the table next to us found a live green caterpillar in her salad ', 'the presentation of the food was awful ', 'i can t tell you how disappointed i was ', 'i think food should have flavor and texture and both were lacking ', 'appetite instantly gone ', 'overall i was not impressed and would not go back ', 'the whole experience was underwhelming  and i think we ll just go to ninja sushi next time ', 'then  as if i hadn t wasted enough of my life there  they poured salt in the wound by drawing out the time it took to bring the check ']\n"
     ]
    }
   ],
   "source": [
    "'''\n",
    "import nltk\n",
    "nltk.download('stopwords')\n",
    "import re\n",
    "from nltk.corpus import stopwords\n",
    "\n",
    "for i in range(0, dataset['Review'].size):\n",
    "    # get review and remove non alpha chars\n",
    "    review = re.sub('[^a-zA-Z]', ' ', dataset['Review'][i])\n",
    "    # convert to lower case\n",
    "    review = review.lower()\n",
    "    # split into words\n",
    "    review = review.split()\n",
    "    # remove stopwords\n",
    "    review = [word for word in review if not word in set(stopwords.words('english'))]\n",
    "    # join words\n",
    "    review = ' '.join(review)\n",
    "    # add review to corpus\n",
    "    corpus.append(review)'''\n",
    "\n",
    "corpus_lower = []\n",
    "for i in corpus:\n",
    "    i = i.lower()\n",
    "    corpus_lower.append(i)\n",
    "\n",
    "print(corpus_lower)"
   ]
  },
  {
   "cell_type": "markdown",
   "metadata": {},
   "source": [
    "#### Removing stop words\n",
    "\n",
    "Another common step which is sometimes applied is to remove any stop words (words that do not have domain semantics attached). We can use the stop words list provided in NLTK for English:"
   ]
  },
  {
   "cell_type": "code",
   "execution_count": 9,
   "metadata": {},
   "outputs": [
    {
     "name": "stderr",
     "output_type": "stream",
     "text": [
      "[nltk_data] Downloading package stopwords to\n",
      "[nltk_data]     /Users/diogofonte/nltk_data...\n"
     ]
    },
    {
     "name": "stdout",
     "output_type": "stream",
     "text": [
      "['i', 'me', 'my', 'myself', 'we', 'our', 'ours', 'ourselves', 'you', \"you're\", \"you've\", \"you'll\", \"you'd\", 'your', 'yours', 'yourself', 'yourselves', 'he', 'him', 'his', 'himself', 'she', \"she's\", 'her', 'hers', 'herself', 'it', \"it's\", 'its', 'itself', 'they', 'them', 'their', 'theirs', 'themselves', 'what', 'which', 'who', 'whom', 'this', 'that', \"that'll\", 'these', 'those', 'am', 'is', 'are', 'was', 'were', 'be', 'been', 'being', 'have', 'has', 'had', 'having', 'do', 'does', 'did', 'doing', 'a', 'an', 'the', 'and', 'but', 'if', 'or', 'because', 'as', 'until', 'while', 'of', 'at', 'by', 'for', 'with', 'about', 'against', 'between', 'into', 'through', 'during', 'before', 'after', 'above', 'below', 'to', 'from', 'up', 'down', 'in', 'out', 'on', 'off', 'over', 'under', 'again', 'further', 'then', 'once', 'here', 'there', 'when', 'where', 'why', 'how', 'all', 'any', 'both', 'each', 'few', 'more', 'most', 'other', 'some', 'such', 'no', 'nor', 'not', 'only', 'own', 'same', 'so', 'than', 'too', 'very', 's', 't', 'can', 'will', 'just', 'don', \"don't\", 'should', \"should've\", 'now', 'd', 'll', 'm', 'o', 're', 've', 'y', 'ain', 'aren', \"aren't\", 'couldn', \"couldn't\", 'didn', \"didn't\", 'doesn', \"doesn't\", 'hadn', \"hadn't\", 'hasn', \"hasn't\", 'haven', \"haven't\", 'isn', \"isn't\", 'ma', 'mightn', \"mightn't\", 'mustn', \"mustn't\", 'needn', \"needn't\", 'shan', \"shan't\", 'shouldn', \"shouldn't\", 'wasn', \"wasn't\", 'weren', \"weren't\", 'won', \"won't\", 'wouldn', \"wouldn't\"]\n"
     ]
    },
    {
     "name": "stderr",
     "output_type": "stream",
     "text": [
      "[nltk_data]   Unzipping corpora/stopwords.zip.\n"
     ]
    }
   ],
   "source": [
    "import nltk\n",
    "nltk.download('stopwords')\n",
    "from nltk.corpus import stopwords\n",
    "\n",
    "print(stopwords.words('english'))"
   ]
  },
  {
   "cell_type": "markdown",
   "metadata": {},
   "source": [
    "Using this stop word list (which does include words that perhaps we should *not* remove, such as negation terms), we can considerably reduce the size of our corpus."
   ]
  },
  {
   "cell_type": "code",
   "execution_count": null,
   "metadata": {},
   "outputs": [],
   "source": [
    "corpus_no_stopwords = []\n",
    "for i in corpus_lower:\n",
    "    i = i.split()\n",
    "    i = [word for word in i if not word in set(stopwords.words('english'))]\n",
    "    i = ' '.join(i)\n",
    "    corpus_no_stopwords.append(i)\n"
   ]
  },
  {
   "cell_type": "markdown",
   "metadata": {},
   "source": [
    "This technique does not always enable machine learning classifiers to do better, as most of them are quite immune to the presence of stop words (which anyway tend not to be discriminative of the classes at hand). But in any case, removing stop words does reduce the size of the corpus.\n",
    "\n",
    "Can you check how smaller the corpus has become by removing stop words? (You might need to go back and get the size of the corpus *before* removing stop words, for comparison.)"
   ]
  },
  {
   "cell_type": "code",
   "execution_count": null,
   "metadata": {},
   "outputs": [],
   "source": [
    "# your code here\n"
   ]
  },
  {
   "cell_type": "markdown",
   "metadata": {},
   "source": [
    "#### Stemming\n",
    "\n",
    "Finally, we can apply stemming to further reduce the size of the vocabulary through normalization."
   ]
  },
  {
   "cell_type": "code",
   "execution_count": null,
   "metadata": {},
   "outputs": [],
   "source": [
    "# your code here\n"
   ]
  },
  {
   "cell_type": "markdown",
   "metadata": {},
   "source": [
    "Can you check how much has the vocabulary been reduced by applying stemming? (You might need to go back one step and get the size of the vocabulary *before* applying stemming, for comparison.)"
   ]
  },
  {
   "cell_type": "code",
   "execution_count": null,
   "metadata": {},
   "outputs": [],
   "source": [
    "# your code here\n"
   ]
  },
  {
   "cell_type": "markdown",
   "metadata": {},
   "source": [
    "#### Doing it all in one step\n",
    "\n",
    "Of course, instead of applying each of the aforementioned steps one at a time, it would be much more efficient to do it in a single loop. Here's the compact version for employing non-alphabetic filtering, lowercasing, stop word removal, and stemming."
   ]
  },
  {
   "cell_type": "code",
   "execution_count": null,
   "metadata": {},
   "outputs": [],
   "source": [
    "import re\n",
    "from nltk.corpus import stopwords\n",
    "from nltk.stem.porter import PorterStemmer\n",
    "\n",
    "corpus = []\n",
    "ps = PorterStemmer()\n",
    "for i in range(0, dataset['Review'].size):\n",
    "    # get review and remove non alpha chars\n",
    "    review = re.sub('[^a-zA-Z]', ' ', dataset['Review'][i])\n",
    "    # to lower-case\n",
    "    review = review.lower()\n",
    "    # split into tokens, apply stemming and remove stop words\n",
    "    review = ' '.join([ps.stem(w) for w in review.split() if not w in set(stopwords.words('english'))])\n",
    "    corpus.append(review)\n",
    "\n",
    "print(corpus)"
   ]
  },
  {
   "cell_type": "markdown",
   "metadata": {},
   "source": [
    "#### Wordclouds\n",
    "\n",
    "A visually appealing way of observing words in a corpus is by showing wordclouds. In order to make a single wordcloud for the whole corpus, we can join all reviews together. We then pass it to [WordCloud](https://amueller.github.io/word_cloud/) to generate a wordcloud: it will automatically assign weights to words based on the number of occurrences of each word."
   ]
  },
  {
   "cell_type": "code",
   "execution_count": 1,
   "metadata": {},
   "outputs": [
    {
     "ename": "ModuleNotFoundError",
     "evalue": "No module named 'wordcloud'",
     "output_type": "error",
     "traceback": [
      "\u001b[0;31m---------------------------------------------------------------------------\u001b[0m",
      "\u001b[0;31mModuleNotFoundError\u001b[0m                       Traceback (most recent call last)",
      "\u001b[0;32m/var/folders/rt/q384_8sj09jb4492q7qhz1sh0000gn/T/ipykernel_85271/3655812139.py\u001b[0m in \u001b[0;36m<module>\u001b[0;34m\u001b[0m\n\u001b[0;32m----> 1\u001b[0;31m \u001b[0;32mfrom\u001b[0m \u001b[0mwordcloud\u001b[0m \u001b[0;32mimport\u001b[0m \u001b[0mWordCloud\u001b[0m\u001b[0;34m\u001b[0m\u001b[0;34m\u001b[0m\u001b[0m\n\u001b[0m\u001b[1;32m      2\u001b[0m \u001b[0;32mimport\u001b[0m \u001b[0mmatplotlib\u001b[0m\u001b[0;34m.\u001b[0m\u001b[0mpyplot\u001b[0m \u001b[0;32mas\u001b[0m \u001b[0mplt\u001b[0m\u001b[0;34m\u001b[0m\u001b[0;34m\u001b[0m\u001b[0m\n\u001b[1;32m      3\u001b[0m \u001b[0;34m\u001b[0m\u001b[0m\n\u001b[1;32m      4\u001b[0m \u001b[0mwordcloud\u001b[0m \u001b[0;34m=\u001b[0m \u001b[0mWordCloud\u001b[0m\u001b[0;34m(\u001b[0m\u001b[0;34m)\u001b[0m\u001b[0;34m.\u001b[0m\u001b[0mgenerate\u001b[0m\u001b[0;34m(\u001b[0m\u001b[0;34m\" \"\u001b[0m\u001b[0;34m.\u001b[0m\u001b[0mjoin\u001b[0m\u001b[0;34m(\u001b[0m\u001b[0mcorpus\u001b[0m\u001b[0;34m)\u001b[0m\u001b[0;34m)\u001b[0m\u001b[0;34m\u001b[0m\u001b[0;34m\u001b[0m\u001b[0m\n\u001b[1;32m      5\u001b[0m \u001b[0;34m\u001b[0m\u001b[0m\n",
      "\u001b[0;31mModuleNotFoundError\u001b[0m: No module named 'wordcloud'"
     ]
    }
   ],
   "source": [
    "from wordcloud import WordCloud\n",
    "import matplotlib.pyplot as plt\n",
    "\n",
    "wordcloud = WordCloud().generate(\" \".join(corpus))\n",
    "\n",
    "plt.figure()\n",
    "plt.imshow(wordcloud)\n",
    "plt.axis('off')\n",
    "plt.show()"
   ]
  },
  {
   "cell_type": "markdown",
   "metadata": {},
   "source": [
    "It would also be interesting to visualize a wordcloud for each of the classes. Can you do it?"
   ]
  },
  {
   "cell_type": "code",
   "execution_count": null,
   "metadata": {},
   "outputs": [],
   "source": [
    "# your code here\n"
   ]
  },
  {
   "cell_type": "markdown",
   "metadata": {},
   "source": [
    "## Generating a data set\n",
    "\n",
    "We need to transform the data in the reduced-vocabulary corpus into a dataset that can be handled by machine learning models. Each review in our corpus is still rather unstructured: it is simply a lists of tokens. We will transform each review into a representation that makes use of the same set of features for the whole dataset."
   ]
  },
  {
   "cell_type": "markdown",
   "metadata": {},
   "source": [
    "#### Obtaining features from the Bag-of-Words model\n",
    "\n",
    "The simplest way to do it is to create a *bag-of-words* model, which ignores word sequence.\n",
    "\n",
    "We can use scikit-learn's [CountVectorizer](https://scikit-learn.org/stable/modules/generated/sklearn.feature_extraction.text.CountVectorizer.html), which converts a collection of text documents to a matrix of token counts.\n"
   ]
  },
  {
   "cell_type": "code",
   "execution_count": null,
   "metadata": {},
   "outputs": [],
   "source": [
    "from sklearn.feature_extraction.text import CountVectorizer\n",
    "\n",
    "vectorizer = CountVectorizer()\n",
    "X = vectorizer.fit_transform(corpus).toarray()\n",
    "\n",
    "print(X.shape)"
   ]
  },
  {
   "cell_type": "markdown",
   "metadata": {},
   "source": [
    "By using CountVectorizer, we can limit the number of features by using the *max_features* parameter.\n",
    "\n",
    "Let's look at the features we've got:"
   ]
  },
  {
   "cell_type": "code",
   "execution_count": null,
   "metadata": {},
   "outputs": [],
   "source": [
    "print(vectorizer.get_feature_names())"
   ]
  },
  {
   "cell_type": "markdown",
   "metadata": {},
   "source": [
    "Each review is now represented as a vector with the number of occurrences for each of the features, indicating how many times the corresponding token appears in the review. Each vector is very sparse.\n",
    "\n",
    "Compare the contents of the 124th review with its representation vector following the bag-of-words model."
   ]
  },
  {
   "cell_type": "code",
   "execution_count": null,
   "metadata": {},
   "outputs": [],
   "source": [
    "# your code here\n"
   ]
  },
  {
   "cell_type": "markdown",
   "metadata": {},
   "source": [
    "#### Obtaining the classes\n",
    "\n",
    "We can get the target labels from the second column in our original dataset, after which we have the full table of data on which we can train machine learning algorithms that are able to classify restaurant reviews into either positive or negative."
   ]
  },
  {
   "cell_type": "code",
   "execution_count": null,
   "metadata": {},
   "outputs": [],
   "source": [
    "y = dataset['Liked']\n",
    "\n",
    "print(X.shape, y.shape)"
   ]
  },
  {
   "cell_type": "markdown",
   "metadata": {},
   "source": [
    "## Training classifiers\n",
    "\n",
    "To train machine learning classifiers, we first split the data into training and test sets."
   ]
  },
  {
   "cell_type": "code",
   "execution_count": null,
   "metadata": {},
   "outputs": [],
   "source": [
    "from sklearn.model_selection import train_test_split\n",
    "\n",
    "X_train, X_test, y_train, y_test = train_test_split(X, y, test_size = 0.20)\n",
    "\n",
    "print(X_train.shape, y_train.shape)\n",
    "print(X_test.shape, y_test.shape)\n",
    "\n",
    "print(\"\\nLabel distribution in the training set:\")\n",
    "print(y_train.value_counts())\n",
    "\n",
    "print(\"\\nLabel distribution in the test set:\")\n",
    "print(y_test.value_counts())"
   ]
  },
  {
   "cell_type": "markdown",
   "metadata": {},
   "source": [
    "Every time you perform the train-test split, you get slightly different results in terms of class distribution. To avoid it, you can use the *random_state* parameter for *train_test_split* (e.g. *random_state = 0*), which ensures you always get the same exact split.\n",
    "\n",
    "You can also force a stratified split via parameter *stratify*, which ensures the same label distribution for both the training and test sets (*stratify=y*)."
   ]
  },
  {
   "cell_type": "markdown",
   "metadata": {},
   "source": [
    "#### Naive Bayes\n",
    "\n",
    "We can start by trying out fitting a [Naive Bayes](https://scikit-learn.org/stable/modules/naive_bayes.html) classifier to our training data. For text data, the two most effective variants are [MultinomialNB](https://scikit-learn.org/stable/modules/generated/sklearn.naive_bayes.MultinomialNB.html) and [ComplementNB](https://scikit-learn.org/stable/modules/generated/sklearn.naive_bayes.ComplementNB.html)."
   ]
  },
  {
   "cell_type": "code",
   "execution_count": null,
   "metadata": {},
   "outputs": [],
   "source": [
    "from sklearn.naive_bayes import MultinomialNB\n",
    "\n",
    "clf = MultinomialNB()\n",
    "clf.fit(X_train, y_train)"
   ]
  },
  {
   "cell_type": "markdown",
   "metadata": {},
   "source": [
    "Let's see the model's output on the test set:"
   ]
  },
  {
   "cell_type": "code",
   "execution_count": null,
   "metadata": {},
   "outputs": [],
   "source": [
    "y_pred = clf.predict(X_test)\n",
    "print(y_pred)"
   ]
  },
  {
   "cell_type": "markdown",
   "metadata": {},
   "source": [
    "We can assess the performance of the model by looking at different metrics.\n",
    "\n",
    "We can print the *confusion matrix*, and get scores for *accuracy*, *precision*, *recall*, and *f1*. Since our dataset is perfectly balanced, accuracy will be a fairly good indicator of performance."
   ]
  },
  {
   "cell_type": "code",
   "execution_count": null,
   "metadata": {},
   "outputs": [],
   "source": [
    "from sklearn.metrics import confusion_matrix\n",
    "from sklearn.metrics import accuracy_score\n",
    "from sklearn.metrics import precision_score\n",
    "from sklearn.metrics import recall_score\n",
    "from sklearn.metrics import f1_score\n",
    "\n",
    "# confusion matrix\n",
    "print(confusion_matrix(y_test, y_pred))\n",
    "\n",
    "# accuracy, precision, recall, f1\n",
    "# your code here\n"
   ]
  },
  {
   "cell_type": "markdown",
   "metadata": {},
   "source": [
    "Let's do a test on a review obtained from the user. We ask the user for input, preprocess the inserted review by removing non-alphabetic characters and by applying lowercasing and stemming\n",
    "\n",
    "We then vectorize the review using the same vectorizer we've used before for creating the dataset. Note that we do not need to remove stop words, as these will be ignored by the vectorizer, since they do not show up in the feature set used to represent reviews."
   ]
  },
  {
   "cell_type": "code",
   "execution_count": null,
   "metadata": {},
   "outputs": [],
   "source": [
    "import os\n",
    "\n",
    "rev = input(\"Enter review: \")\n",
    "\n",
    "# remove non alpha chars, apply lowercasing\n",
    "# your code here\n",
    "\n",
    "\n",
    "# split into tokens and apply stemming\n",
    "# your code here\n",
    "\n",
    "\n",
    "# vectorize the review\n",
    "V = vectorizer.transform([rev]).toarray()\n",
    "\n",
    "print(rev)\n",
    "print(V.shape)\n",
    "print(V)\n",
    "\n",
    "if(clf.predict(V) == [1]):\n",
    "    print('positive review (+)')\n",
    "else:\n",
    "    print('negative review (-)')"
   ]
  },
  {
   "cell_type": "markdown",
   "metadata": {},
   "source": [
    "Many classifiers also provide probabilities for each possible class when making predictions. We can get them by using *predict_proba* instead of *predict*:"
   ]
  },
  {
   "cell_type": "code",
   "execution_count": null,
   "metadata": {},
   "outputs": [],
   "source": [
    "print(clf.predict(V))\n",
    "print(clf.predict_proba(V))"
   ]
  },
  {
   "cell_type": "markdown",
   "metadata": {},
   "source": [
    "#### Other classifiers\n",
    "\n",
    "Try out using other classifiers, such as:\n",
    "- *Logistic Regression*, through scikit-learn's [LogisticRegression](https://scikit-learn.org/stable/modules/generated/sklearn.linear_model.LogisticRegression.html) class.\n",
    "- *Decision Tree*, through scikit-learn's [DecisionTreeClassifier](https://scikit-learn.org/stable/modules/generated/sklearn.tree.DecisionTreeClassifier.html) class. This model always assigns a probability of 1 to one of the classes.\n",
    "- *Random Forest*, through scikit-learn's [RandomForestClassifier](https://scikit-learn.org/stable/modules/generated/sklearn.ensemble.RandomForestClassifier.html) class.\n",
    "- *Support Vector Machines (SVM)*, through scikit-learn's [SVC](https://scikit-learn.org/stable/modules/generated/sklearn.svm.SVC.html) class. The SVM model also allows you to get probabilities, but for that you need to use the *probability=True* parameter setting in its constructor.\n",
    "- *Perceptron*, through scikit-learn's [Perceptron](https://scikit-learn.org/stable/modules/generated/sklearn.linear_model.Perceptron.html) class. This model does not allow you to get probabilities.\n",
    "- *eXtreme Gradient Boosting*, through [XGBoost](https://xgboost.readthedocs.io/en/stable/)."
   ]
  },
  {
   "cell_type": "code",
   "execution_count": null,
   "metadata": {},
   "outputs": [],
   "source": [
    "# your code here\n"
   ]
  },
  {
   "cell_type": "markdown",
   "metadata": {},
   "source": [
    "#### Cross-validation\n",
    "\n",
    "When addressing datasets that are not big enough, cross-validation allows us to use the whole dataset for both training and testing, by splitting the data into *k* folds. By training the model *k* times, each time using *k-1* folds and testing in the remaining fold, we can get performance scores for the model that are averaged accross the *k* iterations."
   ]
  },
  {
   "cell_type": "code",
   "execution_count": null,
   "metadata": {},
   "outputs": [],
   "source": [
    "from sklearn.svm import SVC\n",
    "from sklearn.model_selection import cross_val_score\n",
    "\n",
    "clf = SVC()\n",
    "scores = cross_val_score(clf, X, y, cv=10)\n",
    "\n",
    "print(scores)\n",
    "print(\"%0.2f accuracy with a standard deviation of %0.2f\" % (scores.mean(), scores.std()))"
   ]
  },
  {
   "cell_type": "markdown",
   "metadata": {},
   "source": [
    "The [cross_validate](https://scikit-learn.org/stable/modules/generated/sklearn.model_selection.cross_validate.html) class allows greated flexibility in terms of the metrics we can get, and also provides train scores, fit times and score times."
   ]
  },
  {
   "cell_type": "code",
   "execution_count": null,
   "metadata": {},
   "outputs": [],
   "source": [
    "from sklearn.model_selection import cross_validate\n",
    "\n",
    "scores = cross_validate(clf, X, y, scoring=['accuracy', 'precision_macro', 'recall_macro', 'f1_macro'], return_train_score=True)\n",
    "scores"
   ]
  },
  {
   "cell_type": "markdown",
   "metadata": {},
   "source": [
    "## Beyond bag-of-words\n",
    "\n",
    "We can use other forms of representing the text in our dataset. For instance, we can compute the occurrence of words in a different way. And we can consider features beyond simple words."
   ]
  },
  {
   "cell_type": "markdown",
   "metadata": {},
   "source": [
    "#### 1-hot vectors\n",
    "\n",
    "[CountVectorizer](https://scikit-learn.org/stable/modules/generated/sklearn.feature_extraction.text.CountVectorizer.html) includes a parameter (*binary*) that allows us to represent each review as a 1-hot vector with a 0 or a 1 for each of the features, indicating whether the corresponding token appears in the review.\n",
    "\n",
    "Can you try it out? Compare the previous representation vector of the 124th review with its 1-hot representation vector."
   ]
  },
  {
   "cell_type": "code",
   "execution_count": null,
   "metadata": {},
   "outputs": [],
   "source": [
    "# your code here\n"
   ]
  },
  {
   "cell_type": "markdown",
   "metadata": {},
   "source": [
    "#### TF-IDF\n",
    "\n",
    "We can adjust the counts of each word in a document by considering how many times it occurs in the document (its *term frequency TF*) and in how many documents it occurs (its *document frequency DF*). [TfidfVectorizer](https://scikit-learn.org/stable/modules/generated/sklearn.feature_extraction.text.TfidfVectorizer.html) provides a way to directly obtain TF-IDF weighted features: the term frequency of a word is multiplied by its *inverse* document frequency.\n",
    "\n",
    "Can you try it out? Compare the previous representation vector of the 124th review with its TF-IDF representation vector."
   ]
  },
  {
   "cell_type": "code",
   "execution_count": null,
   "metadata": {},
   "outputs": [],
   "source": [
    "# your code here\n"
   ]
  },
  {
   "cell_type": "markdown",
   "metadata": {},
   "source": [
    "Using TF-IDF weighing gives us a particularly interesting perspective on wordcloud visualizations. For that, we sum directly the values for each feature in the samples we want, and pass these values to [WordCloud](https://amueller.github.io/word_cloud/) as a python dict (containing each word and its frequency) using [generate_from_frequencies](https://amueller.github.io/word_cloud/generated/wordcloud.WordCloud.html). Can you do it?"
   ]
  },
  {
   "cell_type": "code",
   "execution_count": null,
   "metadata": {},
   "outputs": [],
   "source": [
    "# your code here\n"
   ]
  },
  {
   "cell_type": "markdown",
   "metadata": {},
   "source": [
    "#### N-grams\n",
    "\n",
    "The bag-of-words model is very simplistic and ignores word order. Perhaps we can do better if we make use of a bi-gram representation: generate features corresponding to pairs of consecutive tokens. Hopefully, in some cases we will be able to distinguish negations, such as in *not expensive* vs *expensive*.\n",
    "\n",
    "[CountVectorizer](https://scikit-learn.org/stable/modules/generated/sklearn.feature_extraction.text.CountVectorizer.html) (and also [TfidfVectorizer](https://scikit-learn.org/stable/modules/generated/sklearn.feature_extraction.text.TfidfVectorizer.html)) includes the *ngram_range* parameter, which we can use to define the range of n-grams we want to generate as features. If we use a range (1,2), for instance, we'll get both individual tokens as well as bi-grams. Perhaps when doing so it will be a good idea not to get rid of stop words, since the stop word list we have used before includes negation tokens.\n",
    "\n",
    "Can you try it out?"
   ]
  },
  {
   "cell_type": "code",
   "execution_count": null,
   "metadata": {},
   "outputs": [],
   "source": [
    "# your code here\n"
   ]
  }
 ],
 "metadata": {
  "kernelspec": {
   "display_name": "Python 3",
   "language": "python",
   "name": "python3"
  },
  "language_info": {
   "codemirror_mode": {
    "name": "ipython",
    "version": 3
   },
   "file_extension": ".py",
   "mimetype": "text/x-python",
   "name": "python",
   "nbconvert_exporter": "python",
   "pygments_lexer": "ipython3",
   "version": "3.9.13"
  }
 },
 "nbformat": 4,
 "nbformat_minor": 4
}
